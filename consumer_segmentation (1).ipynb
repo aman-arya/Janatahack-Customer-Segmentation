{
 "cells": [
  {
   "cell_type": "code",
   "execution_count": 1,
   "metadata": {
    "colab": {},
    "colab_type": "code",
    "id": "SkNRkmTCJFJ5"
   },
   "outputs": [],
   "source": [
    "import pandas as pd\n",
    "import numpy as np\n",
    "\n",
    "import pandas as pd\n",
    "import numpy as np\n",
    "\n",
    "import matplotlib.pyplot as plt\n",
    "import seaborn as sns\n",
    "\n",
    "from sklearn.neighbors import KNeighborsClassifier\n",
    "from sklearn.metrics import classification_report\n",
    "from sklearn.model_selection import train_test_split\n",
    "from sklearn.metrics import roc_auc_score\n",
    "from sklearn.model_selection import GridSearchCV\n",
    "\n",
    "import warnings\n",
    "\n",
    "warnings.filterwarnings('ignore')"
   ]
  },
  {
   "cell_type": "code",
   "execution_count": 2,
   "metadata": {
    "colab": {},
    "colab_type": "code",
    "id": "9UCwm8R9JQJe"
   },
   "outputs": [],
   "source": [
    "df_train=pd.read_csv('train.csv')\n",
    "df_test=pd.read_csv('test.csv')"
   ]
  },
  {
   "cell_type": "code",
   "execution_count": 3,
   "metadata": {
    "colab": {
     "base_uri": "https://localhost:8080/",
     "height": 218
    },
    "colab_type": "code",
    "id": "jl2DIvnaKcrA",
    "outputId": "dae3debb-14e3-4360-86f8-6e004483bbef"
   },
   "outputs": [
    {
     "data": {
      "text/html": [
       "<div>\n",
       "<style scoped>\n",
       "    .dataframe tbody tr th:only-of-type {\n",
       "        vertical-align: middle;\n",
       "    }\n",
       "\n",
       "    .dataframe tbody tr th {\n",
       "        vertical-align: top;\n",
       "    }\n",
       "\n",
       "    .dataframe thead th {\n",
       "        text-align: right;\n",
       "    }\n",
       "</style>\n",
       "<table border=\"1\" class=\"dataframe\">\n",
       "  <thead>\n",
       "    <tr style=\"text-align: right;\">\n",
       "      <th></th>\n",
       "      <th>ID</th>\n",
       "      <th>Gender</th>\n",
       "      <th>Ever_Married</th>\n",
       "      <th>Age</th>\n",
       "      <th>Graduated</th>\n",
       "      <th>Profession</th>\n",
       "      <th>Work_Experience</th>\n",
       "      <th>Spending_Score</th>\n",
       "      <th>Family_Size</th>\n",
       "      <th>Var_1</th>\n",
       "      <th>Segmentation</th>\n",
       "    </tr>\n",
       "  </thead>\n",
       "  <tbody>\n",
       "    <tr>\n",
       "      <th>0</th>\n",
       "      <td>462809</td>\n",
       "      <td>Male</td>\n",
       "      <td>No</td>\n",
       "      <td>22</td>\n",
       "      <td>No</td>\n",
       "      <td>Healthcare</td>\n",
       "      <td>1.0</td>\n",
       "      <td>Low</td>\n",
       "      <td>4.0</td>\n",
       "      <td>Cat_4</td>\n",
       "      <td>D</td>\n",
       "    </tr>\n",
       "    <tr>\n",
       "      <th>1</th>\n",
       "      <td>462643</td>\n",
       "      <td>Female</td>\n",
       "      <td>Yes</td>\n",
       "      <td>38</td>\n",
       "      <td>Yes</td>\n",
       "      <td>Engineer</td>\n",
       "      <td>NaN</td>\n",
       "      <td>Average</td>\n",
       "      <td>3.0</td>\n",
       "      <td>Cat_4</td>\n",
       "      <td>A</td>\n",
       "    </tr>\n",
       "    <tr>\n",
       "      <th>2</th>\n",
       "      <td>466315</td>\n",
       "      <td>Female</td>\n",
       "      <td>Yes</td>\n",
       "      <td>67</td>\n",
       "      <td>Yes</td>\n",
       "      <td>Engineer</td>\n",
       "      <td>1.0</td>\n",
       "      <td>Low</td>\n",
       "      <td>1.0</td>\n",
       "      <td>Cat_6</td>\n",
       "      <td>B</td>\n",
       "    </tr>\n",
       "    <tr>\n",
       "      <th>3</th>\n",
       "      <td>461735</td>\n",
       "      <td>Male</td>\n",
       "      <td>Yes</td>\n",
       "      <td>67</td>\n",
       "      <td>Yes</td>\n",
       "      <td>Lawyer</td>\n",
       "      <td>0.0</td>\n",
       "      <td>High</td>\n",
       "      <td>2.0</td>\n",
       "      <td>Cat_6</td>\n",
       "      <td>B</td>\n",
       "    </tr>\n",
       "    <tr>\n",
       "      <th>4</th>\n",
       "      <td>462669</td>\n",
       "      <td>Female</td>\n",
       "      <td>Yes</td>\n",
       "      <td>40</td>\n",
       "      <td>Yes</td>\n",
       "      <td>Entertainment</td>\n",
       "      <td>NaN</td>\n",
       "      <td>High</td>\n",
       "      <td>6.0</td>\n",
       "      <td>Cat_6</td>\n",
       "      <td>A</td>\n",
       "    </tr>\n",
       "  </tbody>\n",
       "</table>\n",
       "</div>"
      ],
      "text/plain": [
       "       ID  Gender Ever_Married  Age Graduated     Profession  Work_Experience  \\\n",
       "0  462809    Male           No   22        No     Healthcare              1.0   \n",
       "1  462643  Female          Yes   38       Yes       Engineer              NaN   \n",
       "2  466315  Female          Yes   67       Yes       Engineer              1.0   \n",
       "3  461735    Male          Yes   67       Yes         Lawyer              0.0   \n",
       "4  462669  Female          Yes   40       Yes  Entertainment              NaN   \n",
       "\n",
       "  Spending_Score  Family_Size  Var_1 Segmentation  \n",
       "0            Low          4.0  Cat_4            D  \n",
       "1        Average          3.0  Cat_4            A  \n",
       "2            Low          1.0  Cat_6            B  \n",
       "3           High          2.0  Cat_6            B  \n",
       "4           High          6.0  Cat_6            A  "
      ]
     },
     "execution_count": 3,
     "metadata": {},
     "output_type": "execute_result"
    }
   ],
   "source": [
    "df_train.head()"
   ]
  },
  {
   "cell_type": "code",
   "execution_count": 4,
   "metadata": {
    "colab": {
     "base_uri": "https://localhost:8080/",
     "height": 108
    },
    "colab_type": "code",
    "id": "dxPK9UJpKf1F",
    "outputId": "6f60a9ce-6ee2-40c4-ff87-c7b23ff8f39f"
   },
   "outputs": [
    {
     "data": {
      "text/plain": [
       "D    2268\n",
       "A    1972\n",
       "C    1970\n",
       "B    1858\n",
       "Name: Segmentation, dtype: int64"
      ]
     },
     "execution_count": 4,
     "metadata": {},
     "output_type": "execute_result"
    }
   ],
   "source": [
    "df_train['Segmentation'].value_counts()"
   ]
  },
  {
   "cell_type": "code",
   "execution_count": 5,
   "metadata": {
    "colab": {
     "base_uri": "https://localhost:8080/",
     "height": 345
    },
    "colab_type": "code",
    "id": "W3gM5u6CKwJZ",
    "outputId": "7a7789ae-8794-48cf-a456-7fb674177bf8"
   },
   "outputs": [
    {
     "name": "stdout",
     "output_type": "stream",
     "text": [
      "<class 'pandas.core.frame.DataFrame'>\n",
      "RangeIndex: 8068 entries, 0 to 8067\n",
      "Data columns (total 11 columns):\n",
      " #   Column           Non-Null Count  Dtype  \n",
      "---  ------           --------------  -----  \n",
      " 0   ID               8068 non-null   int64  \n",
      " 1   Gender           8068 non-null   object \n",
      " 2   Ever_Married     7928 non-null   object \n",
      " 3   Age              8068 non-null   int64  \n",
      " 4   Graduated        7990 non-null   object \n",
      " 5   Profession       7944 non-null   object \n",
      " 6   Work_Experience  7239 non-null   float64\n",
      " 7   Spending_Score   8068 non-null   object \n",
      " 8   Family_Size      7733 non-null   float64\n",
      " 9   Var_1            7992 non-null   object \n",
      " 10  Segmentation     8068 non-null   object \n",
      "dtypes: float64(2), int64(2), object(7)\n",
      "memory usage: 693.5+ KB\n"
     ]
    }
   ],
   "source": [
    "df_train.info()"
   ]
  },
  {
   "cell_type": "code",
   "execution_count": 6,
   "metadata": {
    "colab": {},
    "colab_type": "code",
    "id": "f-mYPbLpLTz0"
   },
   "outputs": [],
   "source": [
    "x=df_train[df_train['Work_Experience']==0]"
   ]
  },
  {
   "cell_type": "code",
   "execution_count": 7,
   "metadata": {
    "colab": {
     "base_uri": "https://localhost:8080/",
     "height": 427
    },
    "colab_type": "code",
    "id": "o2daRflmMdC8",
    "outputId": "b4b65e14-4797-413c-93b9-7fefde584530"
   },
   "outputs": [
    {
     "data": {
      "text/html": [
       "<div>\n",
       "<style scoped>\n",
       "    .dataframe tbody tr th:only-of-type {\n",
       "        vertical-align: middle;\n",
       "    }\n",
       "\n",
       "    .dataframe tbody tr th {\n",
       "        vertical-align: top;\n",
       "    }\n",
       "\n",
       "    .dataframe thead th {\n",
       "        text-align: right;\n",
       "    }\n",
       "</style>\n",
       "<table border=\"1\" class=\"dataframe\">\n",
       "  <thead>\n",
       "    <tr style=\"text-align: right;\">\n",
       "      <th></th>\n",
       "      <th>ID</th>\n",
       "      <th>Gender</th>\n",
       "      <th>Ever_Married</th>\n",
       "      <th>Age</th>\n",
       "      <th>Graduated</th>\n",
       "      <th>Profession</th>\n",
       "      <th>Work_Experience</th>\n",
       "      <th>Spending_Score</th>\n",
       "      <th>Family_Size</th>\n",
       "      <th>Var_1</th>\n",
       "      <th>Segmentation</th>\n",
       "    </tr>\n",
       "  </thead>\n",
       "  <tbody>\n",
       "    <tr>\n",
       "      <th>5</th>\n",
       "      <td>461319</td>\n",
       "      <td>Male</td>\n",
       "      <td>Yes</td>\n",
       "      <td>56</td>\n",
       "      <td>No</td>\n",
       "      <td>Artist</td>\n",
       "      <td>0.0</td>\n",
       "      <td>Average</td>\n",
       "      <td>2.0</td>\n",
       "      <td>Cat_6</td>\n",
       "      <td>C</td>\n",
       "    </tr>\n",
       "    <tr>\n",
       "      <th>19</th>\n",
       "      <td>464291</td>\n",
       "      <td>Female</td>\n",
       "      <td>Yes</td>\n",
       "      <td>79</td>\n",
       "      <td>Yes</td>\n",
       "      <td>Artist</td>\n",
       "      <td>0.0</td>\n",
       "      <td>High</td>\n",
       "      <td>1.0</td>\n",
       "      <td>Cat_6</td>\n",
       "      <td>C</td>\n",
       "    </tr>\n",
       "    <tr>\n",
       "      <th>28</th>\n",
       "      <td>465882</td>\n",
       "      <td>Male</td>\n",
       "      <td>No</td>\n",
       "      <td>35</td>\n",
       "      <td>Yes</td>\n",
       "      <td>Artist</td>\n",
       "      <td>0.0</td>\n",
       "      <td>Low</td>\n",
       "      <td>1.0</td>\n",
       "      <td>Cat_6</td>\n",
       "      <td>B</td>\n",
       "    </tr>\n",
       "    <tr>\n",
       "      <th>30</th>\n",
       "      <td>463331</td>\n",
       "      <td>Female</td>\n",
       "      <td>Yes</td>\n",
       "      <td>45</td>\n",
       "      <td>Yes</td>\n",
       "      <td>Artist</td>\n",
       "      <td>0.0</td>\n",
       "      <td>Low</td>\n",
       "      <td>3.0</td>\n",
       "      <td>Cat_6</td>\n",
       "      <td>C</td>\n",
       "    </tr>\n",
       "    <tr>\n",
       "      <th>46</th>\n",
       "      <td>465729</td>\n",
       "      <td>Male</td>\n",
       "      <td>Yes</td>\n",
       "      <td>41</td>\n",
       "      <td>Yes</td>\n",
       "      <td>Artist</td>\n",
       "      <td>0.0</td>\n",
       "      <td>Average</td>\n",
       "      <td>4.0</td>\n",
       "      <td>Cat_4</td>\n",
       "      <td>B</td>\n",
       "    </tr>\n",
       "    <tr>\n",
       "      <th>...</th>\n",
       "      <td>...</td>\n",
       "      <td>...</td>\n",
       "      <td>...</td>\n",
       "      <td>...</td>\n",
       "      <td>...</td>\n",
       "      <td>...</td>\n",
       "      <td>...</td>\n",
       "      <td>...</td>\n",
       "      <td>...</td>\n",
       "      <td>...</td>\n",
       "      <td>...</td>\n",
       "    </tr>\n",
       "    <tr>\n",
       "      <th>8024</th>\n",
       "      <td>467153</td>\n",
       "      <td>Female</td>\n",
       "      <td>Yes</td>\n",
       "      <td>51</td>\n",
       "      <td>Yes</td>\n",
       "      <td>Artist</td>\n",
       "      <td>0.0</td>\n",
       "      <td>Low</td>\n",
       "      <td>NaN</td>\n",
       "      <td>Cat_6</td>\n",
       "      <td>A</td>\n",
       "    </tr>\n",
       "    <tr>\n",
       "      <th>8050</th>\n",
       "      <td>466004</td>\n",
       "      <td>Male</td>\n",
       "      <td>Yes</td>\n",
       "      <td>52</td>\n",
       "      <td>Yes</td>\n",
       "      <td>Artist</td>\n",
       "      <td>0.0</td>\n",
       "      <td>Average</td>\n",
       "      <td>6.0</td>\n",
       "      <td>Cat_4</td>\n",
       "      <td>C</td>\n",
       "    </tr>\n",
       "    <tr>\n",
       "      <th>8060</th>\n",
       "      <td>463613</td>\n",
       "      <td>Female</td>\n",
       "      <td>Yes</td>\n",
       "      <td>48</td>\n",
       "      <td>Yes</td>\n",
       "      <td>Artist</td>\n",
       "      <td>0.0</td>\n",
       "      <td>Average</td>\n",
       "      <td>6.0</td>\n",
       "      <td>Cat_6</td>\n",
       "      <td>A</td>\n",
       "    </tr>\n",
       "    <tr>\n",
       "      <th>8061</th>\n",
       "      <td>465231</td>\n",
       "      <td>Male</td>\n",
       "      <td>Yes</td>\n",
       "      <td>65</td>\n",
       "      <td>No</td>\n",
       "      <td>Artist</td>\n",
       "      <td>0.0</td>\n",
       "      <td>Average</td>\n",
       "      <td>2.0</td>\n",
       "      <td>Cat_6</td>\n",
       "      <td>C</td>\n",
       "    </tr>\n",
       "    <tr>\n",
       "      <th>8062</th>\n",
       "      <td>463002</td>\n",
       "      <td>Male</td>\n",
       "      <td>Yes</td>\n",
       "      <td>41</td>\n",
       "      <td>Yes</td>\n",
       "      <td>Artist</td>\n",
       "      <td>0.0</td>\n",
       "      <td>High</td>\n",
       "      <td>5.0</td>\n",
       "      <td>Cat_6</td>\n",
       "      <td>B</td>\n",
       "    </tr>\n",
       "  </tbody>\n",
       "</table>\n",
       "<p>710 rows × 11 columns</p>\n",
       "</div>"
      ],
      "text/plain": [
       "          ID  Gender Ever_Married  Age Graduated Profession  Work_Experience  \\\n",
       "5     461319    Male          Yes   56        No     Artist              0.0   \n",
       "19    464291  Female          Yes   79       Yes     Artist              0.0   \n",
       "28    465882    Male           No   35       Yes     Artist              0.0   \n",
       "30    463331  Female          Yes   45       Yes     Artist              0.0   \n",
       "46    465729    Male          Yes   41       Yes     Artist              0.0   \n",
       "...      ...     ...          ...  ...       ...        ...              ...   \n",
       "8024  467153  Female          Yes   51       Yes     Artist              0.0   \n",
       "8050  466004    Male          Yes   52       Yes     Artist              0.0   \n",
       "8060  463613  Female          Yes   48       Yes     Artist              0.0   \n",
       "8061  465231    Male          Yes   65        No     Artist              0.0   \n",
       "8062  463002    Male          Yes   41       Yes     Artist              0.0   \n",
       "\n",
       "     Spending_Score  Family_Size  Var_1 Segmentation  \n",
       "5           Average          2.0  Cat_6            C  \n",
       "19             High          1.0  Cat_6            C  \n",
       "28              Low          1.0  Cat_6            B  \n",
       "30              Low          3.0  Cat_6            C  \n",
       "46          Average          4.0  Cat_4            B  \n",
       "...             ...          ...    ...          ...  \n",
       "8024            Low          NaN  Cat_6            A  \n",
       "8050        Average          6.0  Cat_4            C  \n",
       "8060        Average          6.0  Cat_6            A  \n",
       "8061        Average          2.0  Cat_6            C  \n",
       "8062           High          5.0  Cat_6            B  \n",
       "\n",
       "[710 rows x 11 columns]"
      ]
     },
     "execution_count": 7,
     "metadata": {},
     "output_type": "execute_result"
    }
   ],
   "source": [
    "x[x['Profession']=='Artist']"
   ]
  },
  {
   "cell_type": "code",
   "execution_count": 8,
   "metadata": {
    "colab": {},
    "colab_type": "code",
    "id": "DTnfb3i8N8es"
   },
   "outputs": [],
   "source": [
    "map_gender={\"Male\" : 1, \"Female\": 2}\n",
    "df_train['Gender'] = df_train['Gender'].map(map_gender)\n",
    "df_test['Gender'] = df_test['Gender'].map(map_gender)\n"
   ]
  },
  {
   "cell_type": "code",
   "execution_count": 9,
   "metadata": {
    "colab": {
     "base_uri": "https://localhost:8080/",
     "height": 218
    },
    "colab_type": "code",
    "id": "dpgWnkXlljLk",
    "outputId": "02cda8cc-9d29-43a8-8764-37b9d70be7bd"
   },
   "outputs": [
    {
     "data": {
      "text/html": [
       "<div>\n",
       "<style scoped>\n",
       "    .dataframe tbody tr th:only-of-type {\n",
       "        vertical-align: middle;\n",
       "    }\n",
       "\n",
       "    .dataframe tbody tr th {\n",
       "        vertical-align: top;\n",
       "    }\n",
       "\n",
       "    .dataframe thead th {\n",
       "        text-align: right;\n",
       "    }\n",
       "</style>\n",
       "<table border=\"1\" class=\"dataframe\">\n",
       "  <thead>\n",
       "    <tr style=\"text-align: right;\">\n",
       "      <th></th>\n",
       "      <th>ID</th>\n",
       "      <th>Gender</th>\n",
       "      <th>Ever_Married</th>\n",
       "      <th>Age</th>\n",
       "      <th>Graduated</th>\n",
       "      <th>Profession</th>\n",
       "      <th>Work_Experience</th>\n",
       "      <th>Spending_Score</th>\n",
       "      <th>Family_Size</th>\n",
       "      <th>Var_1</th>\n",
       "      <th>Segmentation</th>\n",
       "    </tr>\n",
       "  </thead>\n",
       "  <tbody>\n",
       "    <tr>\n",
       "      <th>0</th>\n",
       "      <td>462809</td>\n",
       "      <td>1</td>\n",
       "      <td>No</td>\n",
       "      <td>22</td>\n",
       "      <td>No</td>\n",
       "      <td>Healthcare</td>\n",
       "      <td>1.0</td>\n",
       "      <td>Low</td>\n",
       "      <td>4.0</td>\n",
       "      <td>Cat_4</td>\n",
       "      <td>D</td>\n",
       "    </tr>\n",
       "    <tr>\n",
       "      <th>1</th>\n",
       "      <td>462643</td>\n",
       "      <td>2</td>\n",
       "      <td>Yes</td>\n",
       "      <td>38</td>\n",
       "      <td>Yes</td>\n",
       "      <td>Engineer</td>\n",
       "      <td>NaN</td>\n",
       "      <td>Average</td>\n",
       "      <td>3.0</td>\n",
       "      <td>Cat_4</td>\n",
       "      <td>A</td>\n",
       "    </tr>\n",
       "    <tr>\n",
       "      <th>2</th>\n",
       "      <td>466315</td>\n",
       "      <td>2</td>\n",
       "      <td>Yes</td>\n",
       "      <td>67</td>\n",
       "      <td>Yes</td>\n",
       "      <td>Engineer</td>\n",
       "      <td>1.0</td>\n",
       "      <td>Low</td>\n",
       "      <td>1.0</td>\n",
       "      <td>Cat_6</td>\n",
       "      <td>B</td>\n",
       "    </tr>\n",
       "    <tr>\n",
       "      <th>3</th>\n",
       "      <td>461735</td>\n",
       "      <td>1</td>\n",
       "      <td>Yes</td>\n",
       "      <td>67</td>\n",
       "      <td>Yes</td>\n",
       "      <td>Lawyer</td>\n",
       "      <td>0.0</td>\n",
       "      <td>High</td>\n",
       "      <td>2.0</td>\n",
       "      <td>Cat_6</td>\n",
       "      <td>B</td>\n",
       "    </tr>\n",
       "    <tr>\n",
       "      <th>4</th>\n",
       "      <td>462669</td>\n",
       "      <td>2</td>\n",
       "      <td>Yes</td>\n",
       "      <td>40</td>\n",
       "      <td>Yes</td>\n",
       "      <td>Entertainment</td>\n",
       "      <td>NaN</td>\n",
       "      <td>High</td>\n",
       "      <td>6.0</td>\n",
       "      <td>Cat_6</td>\n",
       "      <td>A</td>\n",
       "    </tr>\n",
       "  </tbody>\n",
       "</table>\n",
       "</div>"
      ],
      "text/plain": [
       "       ID  Gender Ever_Married  Age Graduated     Profession  Work_Experience  \\\n",
       "0  462809       1           No   22        No     Healthcare              1.0   \n",
       "1  462643       2          Yes   38       Yes       Engineer              NaN   \n",
       "2  466315       2          Yes   67       Yes       Engineer              1.0   \n",
       "3  461735       1          Yes   67       Yes         Lawyer              0.0   \n",
       "4  462669       2          Yes   40       Yes  Entertainment              NaN   \n",
       "\n",
       "  Spending_Score  Family_Size  Var_1 Segmentation  \n",
       "0            Low          4.0  Cat_4            D  \n",
       "1        Average          3.0  Cat_4            A  \n",
       "2            Low          1.0  Cat_6            B  \n",
       "3           High          2.0  Cat_6            B  \n",
       "4           High          6.0  Cat_6            A  "
      ]
     },
     "execution_count": 9,
     "metadata": {},
     "output_type": "execute_result"
    }
   ],
   "source": [
    "df_train.head()"
   ]
  },
  {
   "cell_type": "code",
   "execution_count": 10,
   "metadata": {
    "colab": {},
    "colab_type": "code",
    "id": "oKADtPgHl3fN"
   },
   "outputs": [],
   "source": [
    "df_train.sort_values([\"Age\"], axis=0, ascending=[True], inplace=True) \n",
    "df_test.sort_values([\"Age\"], axis=0, ascending=[True], inplace=True) "
   ]
  },
  {
   "cell_type": "code",
   "execution_count": 11,
   "metadata": {
    "colab": {},
    "colab_type": "code",
    "id": "Whw2yTfXnuwZ"
   },
   "outputs": [],
   "source": [
    "map_married={\"No\" : 1, \"Yes\": 2}\n",
    "df_train['Ever_Married'] = df_train['Ever_Married'].map(map_married)\n",
    "df_test['Ever_Married'] = df_test['Ever_Married'].map(map_married)"
   ]
  },
  {
   "cell_type": "code",
   "execution_count": 12,
   "metadata": {
    "colab": {},
    "colab_type": "code",
    "id": "XWeLB5olnxV0"
   },
   "outputs": [],
   "source": [
    "df_train[\"Ever_Married\"].fillna( method ='ffill', inplace = True) \n",
    "df_test[\"Ever_Married\"].fillna( method ='ffill', inplace = True) "
   ]
  },
  {
   "cell_type": "code",
   "execution_count": 13,
   "metadata": {
    "colab": {
     "base_uri": "https://localhost:8080/",
     "height": 218
    },
    "colab_type": "code",
    "id": "ZukZxCGkoudc",
    "outputId": "130fde41-3b4a-4117-df0f-4e0ad5136e1f"
   },
   "outputs": [
    {
     "data": {
      "text/html": [
       "<div>\n",
       "<style scoped>\n",
       "    .dataframe tbody tr th:only-of-type {\n",
       "        vertical-align: middle;\n",
       "    }\n",
       "\n",
       "    .dataframe tbody tr th {\n",
       "        vertical-align: top;\n",
       "    }\n",
       "\n",
       "    .dataframe thead th {\n",
       "        text-align: right;\n",
       "    }\n",
       "</style>\n",
       "<table border=\"1\" class=\"dataframe\">\n",
       "  <thead>\n",
       "    <tr style=\"text-align: right;\">\n",
       "      <th></th>\n",
       "      <th>ID</th>\n",
       "      <th>Gender</th>\n",
       "      <th>Ever_Married</th>\n",
       "      <th>Age</th>\n",
       "      <th>Graduated</th>\n",
       "      <th>Profession</th>\n",
       "      <th>Work_Experience</th>\n",
       "      <th>Spending_Score</th>\n",
       "      <th>Family_Size</th>\n",
       "      <th>Var_1</th>\n",
       "      <th>Segmentation</th>\n",
       "    </tr>\n",
       "  </thead>\n",
       "  <tbody>\n",
       "    <tr>\n",
       "      <th>4321</th>\n",
       "      <td>461253</td>\n",
       "      <td>2</td>\n",
       "      <td>1.0</td>\n",
       "      <td>18</td>\n",
       "      <td>No</td>\n",
       "      <td>Healthcare</td>\n",
       "      <td>0.0</td>\n",
       "      <td>Low</td>\n",
       "      <td>5.0</td>\n",
       "      <td>Cat_4</td>\n",
       "      <td>D</td>\n",
       "    </tr>\n",
       "    <tr>\n",
       "      <th>3992</th>\n",
       "      <td>466750</td>\n",
       "      <td>2</td>\n",
       "      <td>1.0</td>\n",
       "      <td>18</td>\n",
       "      <td>NaN</td>\n",
       "      <td>Healthcare</td>\n",
       "      <td>0.0</td>\n",
       "      <td>Low</td>\n",
       "      <td>3.0</td>\n",
       "      <td>Cat_3</td>\n",
       "      <td>D</td>\n",
       "    </tr>\n",
       "    <tr>\n",
       "      <th>1155</th>\n",
       "      <td>466814</td>\n",
       "      <td>1</td>\n",
       "      <td>1.0</td>\n",
       "      <td>18</td>\n",
       "      <td>No</td>\n",
       "      <td>Healthcare</td>\n",
       "      <td>0.0</td>\n",
       "      <td>Low</td>\n",
       "      <td>3.0</td>\n",
       "      <td>Cat_6</td>\n",
       "      <td>D</td>\n",
       "    </tr>\n",
       "    <tr>\n",
       "      <th>1159</th>\n",
       "      <td>467474</td>\n",
       "      <td>1</td>\n",
       "      <td>1.0</td>\n",
       "      <td>18</td>\n",
       "      <td>No</td>\n",
       "      <td>Healthcare</td>\n",
       "      <td>3.0</td>\n",
       "      <td>Low</td>\n",
       "      <td>5.0</td>\n",
       "      <td>Cat_6</td>\n",
       "      <td>D</td>\n",
       "    </tr>\n",
       "    <tr>\n",
       "      <th>5827</th>\n",
       "      <td>462764</td>\n",
       "      <td>1</td>\n",
       "      <td>1.0</td>\n",
       "      <td>18</td>\n",
       "      <td>No</td>\n",
       "      <td>Healthcare</td>\n",
       "      <td>NaN</td>\n",
       "      <td>Low</td>\n",
       "      <td>4.0</td>\n",
       "      <td>Cat_6</td>\n",
       "      <td>D</td>\n",
       "    </tr>\n",
       "  </tbody>\n",
       "</table>\n",
       "</div>"
      ],
      "text/plain": [
       "          ID  Gender  Ever_Married  Age Graduated  Profession  \\\n",
       "4321  461253       2           1.0   18        No  Healthcare   \n",
       "3992  466750       2           1.0   18       NaN  Healthcare   \n",
       "1155  466814       1           1.0   18        No  Healthcare   \n",
       "1159  467474       1           1.0   18        No  Healthcare   \n",
       "5827  462764       1           1.0   18        No  Healthcare   \n",
       "\n",
       "      Work_Experience Spending_Score  Family_Size  Var_1 Segmentation  \n",
       "4321              0.0            Low          5.0  Cat_4            D  \n",
       "3992              0.0            Low          3.0  Cat_3            D  \n",
       "1155              0.0            Low          3.0  Cat_6            D  \n",
       "1159              3.0            Low          5.0  Cat_6            D  \n",
       "5827              NaN            Low          4.0  Cat_6            D  "
      ]
     },
     "execution_count": 13,
     "metadata": {},
     "output_type": "execute_result"
    }
   ],
   "source": [
    "df_train.head()"
   ]
  },
  {
   "cell_type": "code",
   "execution_count": 14,
   "metadata": {
    "colab": {
     "base_uri": "https://localhost:8080/",
     "height": 345
    },
    "colab_type": "code",
    "id": "s_eUO5u3qg3k",
    "outputId": "9e861bb0-c384-4170-e091-fac9c6e4194b"
   },
   "outputs": [
    {
     "name": "stdout",
     "output_type": "stream",
     "text": [
      "<class 'pandas.core.frame.DataFrame'>\n",
      "Int64Index: 8068 entries, 4321 to 7262\n",
      "Data columns (total 11 columns):\n",
      " #   Column           Non-Null Count  Dtype  \n",
      "---  ------           --------------  -----  \n",
      " 0   ID               8068 non-null   int64  \n",
      " 1   Gender           8068 non-null   int64  \n",
      " 2   Ever_Married     8068 non-null   float64\n",
      " 3   Age              8068 non-null   int64  \n",
      " 4   Graduated        7990 non-null   object \n",
      " 5   Profession       7944 non-null   object \n",
      " 6   Work_Experience  7239 non-null   float64\n",
      " 7   Spending_Score   8068 non-null   object \n",
      " 8   Family_Size      7733 non-null   float64\n",
      " 9   Var_1            7992 non-null   object \n",
      " 10  Segmentation     8068 non-null   object \n",
      "dtypes: float64(3), int64(3), object(5)\n",
      "memory usage: 756.4+ KB\n"
     ]
    }
   ],
   "source": [
    "df_train.info()"
   ]
  },
  {
   "cell_type": "code",
   "execution_count": 15,
   "metadata": {
    "colab": {
     "base_uri": "https://localhost:8080/",
     "height": 90
    },
    "colab_type": "code",
    "id": "xrXFH0Vyq_Y5",
    "outputId": "22fb5d69-4688-4587-9069-d59cca9e43c2"
   },
   "outputs": [
    {
     "data": {
      "text/plain": [
       "Low        4878\n",
       "Average    1974\n",
       "High       1216\n",
       "Name: Spending_Score, dtype: int64"
      ]
     },
     "execution_count": 15,
     "metadata": {},
     "output_type": "execute_result"
    }
   ],
   "source": [
    "df_train['Spending_Score'].value_counts()"
   ]
  },
  {
   "cell_type": "code",
   "execution_count": 16,
   "metadata": {
    "colab": {},
    "colab_type": "code",
    "id": "OBKbeFeDr6vi"
   },
   "outputs": [],
   "source": [
    "map_score={\"Low\" : 1, \"Average\": 2,\"High\":3}\n",
    "df_train['Spending_Score'] = df_train['Spending_Score'].map(map_score)\n",
    "df_test['Spending_Score'] = df_test['Spending_Score'].map(map_score)"
   ]
  },
  {
   "cell_type": "code",
   "execution_count": 17,
   "metadata": {
    "colab": {},
    "colab_type": "code",
    "id": "AjiLZY68sqgt"
   },
   "outputs": [],
   "source": [
    "df_train.sort_values([\"Spending_Score\"], axis=0, ascending=[True], inplace=True) \n",
    "df_test.sort_values([\"Spending_Score\"], axis=0, ascending=[True], inplace=True) "
   ]
  },
  {
   "cell_type": "code",
   "execution_count": 18,
   "metadata": {
    "colab": {},
    "colab_type": "code",
    "id": "0YPtTBaAs5zF"
   },
   "outputs": [],
   "source": [
    "#df_train[\"Graduated\"].fillna( method ='ffill', inplace = True) \n",
    "#df_test[\"Graduated\"].fillna( method ='ffill', inplace = True) "
   ]
  },
  {
   "cell_type": "code",
   "execution_count": 19,
   "metadata": {
    "colab": {
     "base_uri": "https://localhost:8080/",
     "height": 427
    },
    "colab_type": "code",
    "id": "3dUPGcvNtHRQ",
    "outputId": "37a79c62-eb98-42ff-ca84-dc0882fe2244"
   },
   "outputs": [
    {
     "data": {
      "text/html": [
       "<div>\n",
       "<style scoped>\n",
       "    .dataframe tbody tr th:only-of-type {\n",
       "        vertical-align: middle;\n",
       "    }\n",
       "\n",
       "    .dataframe tbody tr th {\n",
       "        vertical-align: top;\n",
       "    }\n",
       "\n",
       "    .dataframe thead th {\n",
       "        text-align: right;\n",
       "    }\n",
       "</style>\n",
       "<table border=\"1\" class=\"dataframe\">\n",
       "  <thead>\n",
       "    <tr style=\"text-align: right;\">\n",
       "      <th></th>\n",
       "      <th>ID</th>\n",
       "      <th>Gender</th>\n",
       "      <th>Ever_Married</th>\n",
       "      <th>Age</th>\n",
       "      <th>Graduated</th>\n",
       "      <th>Profession</th>\n",
       "      <th>Work_Experience</th>\n",
       "      <th>Spending_Score</th>\n",
       "      <th>Family_Size</th>\n",
       "      <th>Var_1</th>\n",
       "      <th>Segmentation</th>\n",
       "    </tr>\n",
       "  </thead>\n",
       "  <tbody>\n",
       "    <tr>\n",
       "      <th>4321</th>\n",
       "      <td>461253</td>\n",
       "      <td>2</td>\n",
       "      <td>1.0</td>\n",
       "      <td>18</td>\n",
       "      <td>No</td>\n",
       "      <td>Healthcare</td>\n",
       "      <td>0.0</td>\n",
       "      <td>1</td>\n",
       "      <td>5.0</td>\n",
       "      <td>Cat_4</td>\n",
       "      <td>D</td>\n",
       "    </tr>\n",
       "    <tr>\n",
       "      <th>7458</th>\n",
       "      <td>463312</td>\n",
       "      <td>1</td>\n",
       "      <td>2.0</td>\n",
       "      <td>40</td>\n",
       "      <td>No</td>\n",
       "      <td>Engineer</td>\n",
       "      <td>3.0</td>\n",
       "      <td>1</td>\n",
       "      <td>1.0</td>\n",
       "      <td>Cat_3</td>\n",
       "      <td>A</td>\n",
       "    </tr>\n",
       "    <tr>\n",
       "      <th>5865</th>\n",
       "      <td>463348</td>\n",
       "      <td>2</td>\n",
       "      <td>2.0</td>\n",
       "      <td>40</td>\n",
       "      <td>Yes</td>\n",
       "      <td>Doctor</td>\n",
       "      <td>1.0</td>\n",
       "      <td>1</td>\n",
       "      <td>2.0</td>\n",
       "      <td>Cat_6</td>\n",
       "      <td>A</td>\n",
       "    </tr>\n",
       "    <tr>\n",
       "      <th>3321</th>\n",
       "      <td>466806</td>\n",
       "      <td>1</td>\n",
       "      <td>2.0</td>\n",
       "      <td>40</td>\n",
       "      <td>Yes</td>\n",
       "      <td>Healthcare</td>\n",
       "      <td>0.0</td>\n",
       "      <td>1</td>\n",
       "      <td>1.0</td>\n",
       "      <td>Cat_6</td>\n",
       "      <td>D</td>\n",
       "    </tr>\n",
       "    <tr>\n",
       "      <th>2352</th>\n",
       "      <td>467070</td>\n",
       "      <td>1</td>\n",
       "      <td>2.0</td>\n",
       "      <td>40</td>\n",
       "      <td>No</td>\n",
       "      <td>Executive</td>\n",
       "      <td>5.0</td>\n",
       "      <td>1</td>\n",
       "      <td>4.0</td>\n",
       "      <td>Cat_6</td>\n",
       "      <td>D</td>\n",
       "    </tr>\n",
       "    <tr>\n",
       "      <th>...</th>\n",
       "      <td>...</td>\n",
       "      <td>...</td>\n",
       "      <td>...</td>\n",
       "      <td>...</td>\n",
       "      <td>...</td>\n",
       "      <td>...</td>\n",
       "      <td>...</td>\n",
       "      <td>...</td>\n",
       "      <td>...</td>\n",
       "      <td>...</td>\n",
       "      <td>...</td>\n",
       "    </tr>\n",
       "    <tr>\n",
       "      <th>2111</th>\n",
       "      <td>465416</td>\n",
       "      <td>1</td>\n",
       "      <td>2.0</td>\n",
       "      <td>55</td>\n",
       "      <td>No</td>\n",
       "      <td>Engineer</td>\n",
       "      <td>1.0</td>\n",
       "      <td>3</td>\n",
       "      <td>4.0</td>\n",
       "      <td>Cat_6</td>\n",
       "      <td>A</td>\n",
       "    </tr>\n",
       "    <tr>\n",
       "      <th>4130</th>\n",
       "      <td>463722</td>\n",
       "      <td>1</td>\n",
       "      <td>2.0</td>\n",
       "      <td>55</td>\n",
       "      <td>Yes</td>\n",
       "      <td>Executive</td>\n",
       "      <td>9.0</td>\n",
       "      <td>3</td>\n",
       "      <td>2.0</td>\n",
       "      <td>Cat_6</td>\n",
       "      <td>C</td>\n",
       "    </tr>\n",
       "    <tr>\n",
       "      <th>1116</th>\n",
       "      <td>462068</td>\n",
       "      <td>1</td>\n",
       "      <td>2.0</td>\n",
       "      <td>55</td>\n",
       "      <td>Yes</td>\n",
       "      <td>Executive</td>\n",
       "      <td>1.0</td>\n",
       "      <td>3</td>\n",
       "      <td>3.0</td>\n",
       "      <td>Cat_6</td>\n",
       "      <td>C</td>\n",
       "    </tr>\n",
       "    <tr>\n",
       "      <th>5121</th>\n",
       "      <td>467654</td>\n",
       "      <td>2</td>\n",
       "      <td>2.0</td>\n",
       "      <td>56</td>\n",
       "      <td>Yes</td>\n",
       "      <td>Artist</td>\n",
       "      <td>NaN</td>\n",
       "      <td>3</td>\n",
       "      <td>4.0</td>\n",
       "      <td>Cat_6</td>\n",
       "      <td>C</td>\n",
       "    </tr>\n",
       "    <tr>\n",
       "      <th>660</th>\n",
       "      <td>467459</td>\n",
       "      <td>1</td>\n",
       "      <td>2.0</td>\n",
       "      <td>40</td>\n",
       "      <td>Yes</td>\n",
       "      <td>Executive</td>\n",
       "      <td>NaN</td>\n",
       "      <td>3</td>\n",
       "      <td>5.0</td>\n",
       "      <td>Cat_6</td>\n",
       "      <td>B</td>\n",
       "    </tr>\n",
       "  </tbody>\n",
       "</table>\n",
       "<p>8068 rows × 11 columns</p>\n",
       "</div>"
      ],
      "text/plain": [
       "          ID  Gender  Ever_Married  Age Graduated  Profession  \\\n",
       "4321  461253       2           1.0   18        No  Healthcare   \n",
       "7458  463312       1           2.0   40        No    Engineer   \n",
       "5865  463348       2           2.0   40       Yes      Doctor   \n",
       "3321  466806       1           2.0   40       Yes  Healthcare   \n",
       "2352  467070       1           2.0   40        No   Executive   \n",
       "...      ...     ...           ...  ...       ...         ...   \n",
       "2111  465416       1           2.0   55        No    Engineer   \n",
       "4130  463722       1           2.0   55       Yes   Executive   \n",
       "1116  462068       1           2.0   55       Yes   Executive   \n",
       "5121  467654       2           2.0   56       Yes      Artist   \n",
       "660   467459       1           2.0   40       Yes   Executive   \n",
       "\n",
       "      Work_Experience  Spending_Score  Family_Size  Var_1 Segmentation  \n",
       "4321              0.0               1          5.0  Cat_4            D  \n",
       "7458              3.0               1          1.0  Cat_3            A  \n",
       "5865              1.0               1          2.0  Cat_6            A  \n",
       "3321              0.0               1          1.0  Cat_6            D  \n",
       "2352              5.0               1          4.0  Cat_6            D  \n",
       "...               ...             ...          ...    ...          ...  \n",
       "2111              1.0               3          4.0  Cat_6            A  \n",
       "4130              9.0               3          2.0  Cat_6            C  \n",
       "1116              1.0               3          3.0  Cat_6            C  \n",
       "5121              NaN               3          4.0  Cat_6            C  \n",
       "660               NaN               3          5.0  Cat_6            B  \n",
       "\n",
       "[8068 rows x 11 columns]"
      ]
     },
     "execution_count": 19,
     "metadata": {},
     "output_type": "execute_result"
    }
   ],
   "source": [
    "df_train"
   ]
  },
  {
   "cell_type": "code",
   "execution_count": 20,
   "metadata": {
    "colab": {},
    "colab_type": "code",
    "id": "eL0yYyhttJCg"
   },
   "outputs": [],
   "source": [
    "map_garduate={\"No\" : 1, \"Yes\": 2}\n",
    "df_train['Graduated'] = df_train['Graduated'].map(map_garduate)\n",
    "df_test['Graduated'] = df_test['Graduated'].map(map_garduate)"
   ]
  },
  {
   "cell_type": "code",
   "execution_count": 21,
   "metadata": {
    "colab": {
     "base_uri": "https://localhost:8080/",
     "height": 199
    },
    "colab_type": "code",
    "id": "LrQI5CQJtg5N",
    "outputId": "c575ac99-5bb7-4f4e-f151-080c7eb7d4ce"
   },
   "outputs": [
    {
     "data": {
      "text/plain": [
       "Artist           2516\n",
       "Healthcare       1332\n",
       "Entertainment     949\n",
       "Engineer          699\n",
       "Doctor            688\n",
       "Lawyer            623\n",
       "Executive         599\n",
       "Marketing         292\n",
       "Homemaker         246\n",
       "Name: Profession, dtype: int64"
      ]
     },
     "execution_count": 21,
     "metadata": {},
     "output_type": "execute_result"
    }
   ],
   "source": [
    "df_train['Profession'].value_counts()"
   ]
  },
  {
   "cell_type": "code",
   "execution_count": 22,
   "metadata": {
    "colab": {},
    "colab_type": "code",
    "id": "yAti8qfLwPje"
   },
   "outputs": [],
   "source": [
    "map_profession={\"Healthcare\" : 1, \"Engineer\": 2,\"Doctor\":3,\"Healthcare\":4,\"Executive\":5}\n",
    "df_train['Profession'] = df_train['Profession'].map(map_profession)\n",
    "df_test['Profession'] = df_test['Profession'].map(map_profession)\n"
   ]
  },
  {
   "cell_type": "code",
   "execution_count": 23,
   "metadata": {
    "colab": {
     "base_uri": "https://localhost:8080/",
     "height": 163
    },
    "colab_type": "code",
    "id": "OZDe-T6Xw0my",
    "outputId": "391a6ff7-aa9d-49f2-b6d0-ebf575f22933"
   },
   "outputs": [
    {
     "data": {
      "text/plain": [
       "Cat_6    5238\n",
       "Cat_4    1089\n",
       "Cat_3     822\n",
       "Cat_2     422\n",
       "Cat_7     203\n",
       "Cat_1     133\n",
       "Cat_5      85\n",
       "Name: Var_1, dtype: int64"
      ]
     },
     "execution_count": 23,
     "metadata": {},
     "output_type": "execute_result"
    }
   ],
   "source": [
    "df_train[\"Var_1\"].value_counts()"
   ]
  },
  {
   "cell_type": "code",
   "execution_count": 24,
   "metadata": {
    "colab": {},
    "colab_type": "code",
    "id": "VhNteXyCxKq6"
   },
   "outputs": [],
   "source": [
    "map_var={\"Cat_1\" : 1, \"Cat_2\": 2,\"Cat_3\":3,\"Cat_4\":4,\"Cat_5\":5,\"Cat_6\":6,\"Cat_7\":7}\n",
    "df_train['Var_1'] = df_train['Var_1'].map(map_var)\n",
    "df_test['Var_1'] = df_test['Var_1'].map(map_var)"
   ]
  },
  {
   "cell_type": "code",
   "execution_count": 25,
   "metadata": {
    "colab": {
     "base_uri": "https://localhost:8080/",
     "height": 218
    },
    "colab_type": "code",
    "id": "afBhadkyyGul",
    "outputId": "aa84b15d-d1ea-40a6-8719-27338330ed9f"
   },
   "outputs": [
    {
     "data": {
      "text/html": [
       "<div>\n",
       "<style scoped>\n",
       "    .dataframe tbody tr th:only-of-type {\n",
       "        vertical-align: middle;\n",
       "    }\n",
       "\n",
       "    .dataframe tbody tr th {\n",
       "        vertical-align: top;\n",
       "    }\n",
       "\n",
       "    .dataframe thead th {\n",
       "        text-align: right;\n",
       "    }\n",
       "</style>\n",
       "<table border=\"1\" class=\"dataframe\">\n",
       "  <thead>\n",
       "    <tr style=\"text-align: right;\">\n",
       "      <th></th>\n",
       "      <th>ID</th>\n",
       "      <th>Gender</th>\n",
       "      <th>Ever_Married</th>\n",
       "      <th>Age</th>\n",
       "      <th>Graduated</th>\n",
       "      <th>Profession</th>\n",
       "      <th>Work_Experience</th>\n",
       "      <th>Spending_Score</th>\n",
       "      <th>Family_Size</th>\n",
       "      <th>Var_1</th>\n",
       "      <th>Segmentation</th>\n",
       "    </tr>\n",
       "  </thead>\n",
       "  <tbody>\n",
       "    <tr>\n",
       "      <th>4321</th>\n",
       "      <td>461253</td>\n",
       "      <td>2</td>\n",
       "      <td>1.0</td>\n",
       "      <td>18</td>\n",
       "      <td>1.0</td>\n",
       "      <td>4.0</td>\n",
       "      <td>0.0</td>\n",
       "      <td>1</td>\n",
       "      <td>5.0</td>\n",
       "      <td>4.0</td>\n",
       "      <td>D</td>\n",
       "    </tr>\n",
       "    <tr>\n",
       "      <th>7458</th>\n",
       "      <td>463312</td>\n",
       "      <td>1</td>\n",
       "      <td>2.0</td>\n",
       "      <td>40</td>\n",
       "      <td>1.0</td>\n",
       "      <td>2.0</td>\n",
       "      <td>3.0</td>\n",
       "      <td>1</td>\n",
       "      <td>1.0</td>\n",
       "      <td>3.0</td>\n",
       "      <td>A</td>\n",
       "    </tr>\n",
       "    <tr>\n",
       "      <th>5865</th>\n",
       "      <td>463348</td>\n",
       "      <td>2</td>\n",
       "      <td>2.0</td>\n",
       "      <td>40</td>\n",
       "      <td>2.0</td>\n",
       "      <td>3.0</td>\n",
       "      <td>1.0</td>\n",
       "      <td>1</td>\n",
       "      <td>2.0</td>\n",
       "      <td>6.0</td>\n",
       "      <td>A</td>\n",
       "    </tr>\n",
       "    <tr>\n",
       "      <th>3321</th>\n",
       "      <td>466806</td>\n",
       "      <td>1</td>\n",
       "      <td>2.0</td>\n",
       "      <td>40</td>\n",
       "      <td>2.0</td>\n",
       "      <td>4.0</td>\n",
       "      <td>0.0</td>\n",
       "      <td>1</td>\n",
       "      <td>1.0</td>\n",
       "      <td>6.0</td>\n",
       "      <td>D</td>\n",
       "    </tr>\n",
       "    <tr>\n",
       "      <th>2352</th>\n",
       "      <td>467070</td>\n",
       "      <td>1</td>\n",
       "      <td>2.0</td>\n",
       "      <td>40</td>\n",
       "      <td>1.0</td>\n",
       "      <td>5.0</td>\n",
       "      <td>5.0</td>\n",
       "      <td>1</td>\n",
       "      <td>4.0</td>\n",
       "      <td>6.0</td>\n",
       "      <td>D</td>\n",
       "    </tr>\n",
       "  </tbody>\n",
       "</table>\n",
       "</div>"
      ],
      "text/plain": [
       "          ID  Gender  Ever_Married  Age  Graduated  Profession  \\\n",
       "4321  461253       2           1.0   18        1.0         4.0   \n",
       "7458  463312       1           2.0   40        1.0         2.0   \n",
       "5865  463348       2           2.0   40        2.0         3.0   \n",
       "3321  466806       1           2.0   40        2.0         4.0   \n",
       "2352  467070       1           2.0   40        1.0         5.0   \n",
       "\n",
       "      Work_Experience  Spending_Score  Family_Size  Var_1 Segmentation  \n",
       "4321              0.0               1          5.0    4.0            D  \n",
       "7458              3.0               1          1.0    3.0            A  \n",
       "5865              1.0               1          2.0    6.0            A  \n",
       "3321              0.0               1          1.0    6.0            D  \n",
       "2352              5.0               1          4.0    6.0            D  "
      ]
     },
     "execution_count": 25,
     "metadata": {},
     "output_type": "execute_result"
    }
   ],
   "source": [
    "df_train.head()"
   ]
  },
  {
   "cell_type": "code",
   "execution_count": 26,
   "metadata": {
    "colab": {
     "base_uri": "https://localhost:8080/",
     "height": 368
    },
    "colab_type": "code",
    "id": "h6DZRi_ryLvH",
    "outputId": "f4ed719c-7297-4255-a032-fd491cc2a37c"
   },
   "outputs": [
    {
     "data": {
      "text/html": [
       "<div>\n",
       "<style scoped>\n",
       "    .dataframe tbody tr th:only-of-type {\n",
       "        vertical-align: middle;\n",
       "    }\n",
       "\n",
       "    .dataframe tbody tr th {\n",
       "        vertical-align: top;\n",
       "    }\n",
       "\n",
       "    .dataframe thead th {\n",
       "        text-align: right;\n",
       "    }\n",
       "</style>\n",
       "<table border=\"1\" class=\"dataframe\">\n",
       "  <thead>\n",
       "    <tr style=\"text-align: right;\">\n",
       "      <th></th>\n",
       "      <th>ID</th>\n",
       "      <th>Gender</th>\n",
       "      <th>Ever_Married</th>\n",
       "      <th>Age</th>\n",
       "      <th>Graduated</th>\n",
       "      <th>Profession</th>\n",
       "      <th>Work_Experience</th>\n",
       "      <th>Spending_Score</th>\n",
       "      <th>Family_Size</th>\n",
       "      <th>Var_1</th>\n",
       "    </tr>\n",
       "  </thead>\n",
       "  <tbody>\n",
       "    <tr>\n",
       "      <th>ID</th>\n",
       "      <td>1.000000</td>\n",
       "      <td>-0.006155</td>\n",
       "      <td>0.019420</td>\n",
       "      <td>-0.005055</td>\n",
       "      <td>-0.011544</td>\n",
       "      <td>-0.003726</td>\n",
       "      <td>-0.030688</td>\n",
       "      <td>0.005773</td>\n",
       "      <td>0.011801</td>\n",
       "      <td>-0.001116</td>\n",
       "    </tr>\n",
       "    <tr>\n",
       "      <th>Gender</th>\n",
       "      <td>-0.006155</td>\n",
       "      <td>1.000000</td>\n",
       "      <td>-0.114187</td>\n",
       "      <td>-0.030216</td>\n",
       "      <td>0.034109</td>\n",
       "      <td>-0.442594</td>\n",
       "      <td>0.059878</td>\n",
       "      <td>-0.061432</td>\n",
       "      <td>-0.055911</td>\n",
       "      <td>-0.030861</td>\n",
       "    </tr>\n",
       "    <tr>\n",
       "      <th>Ever_Married</th>\n",
       "      <td>0.019420</td>\n",
       "      <td>-0.114187</td>\n",
       "      <td>1.000000</td>\n",
       "      <td>0.568912</td>\n",
       "      <td>0.198102</td>\n",
       "      <td>0.025516</td>\n",
       "      <td>-0.095459</td>\n",
       "      <td>0.604278</td>\n",
       "      <td>-0.078956</td>\n",
       "      <td>0.084025</td>\n",
       "    </tr>\n",
       "    <tr>\n",
       "      <th>Age</th>\n",
       "      <td>-0.005055</td>\n",
       "      <td>-0.030216</td>\n",
       "      <td>0.568912</td>\n",
       "      <td>1.000000</td>\n",
       "      <td>0.237309</td>\n",
       "      <td>0.018807</td>\n",
       "      <td>-0.190789</td>\n",
       "      <td>0.415485</td>\n",
       "      <td>-0.280517</td>\n",
       "      <td>0.168308</td>\n",
       "    </tr>\n",
       "    <tr>\n",
       "      <th>Graduated</th>\n",
       "      <td>-0.011544</td>\n",
       "      <td>0.034109</td>\n",
       "      <td>0.198102</td>\n",
       "      <td>0.237309</td>\n",
       "      <td>1.000000</td>\n",
       "      <td>-0.029852</td>\n",
       "      <td>0.031374</td>\n",
       "      <td>0.103468</td>\n",
       "      <td>-0.231260</td>\n",
       "      <td>0.126698</td>\n",
       "    </tr>\n",
       "    <tr>\n",
       "      <th>Profession</th>\n",
       "      <td>-0.003726</td>\n",
       "      <td>-0.442594</td>\n",
       "      <td>0.025516</td>\n",
       "      <td>0.018807</td>\n",
       "      <td>-0.029852</td>\n",
       "      <td>1.000000</td>\n",
       "      <td>-0.021655</td>\n",
       "      <td>0.259112</td>\n",
       "      <td>0.156451</td>\n",
       "      <td>0.069117</td>\n",
       "    </tr>\n",
       "    <tr>\n",
       "      <th>Work_Experience</th>\n",
       "      <td>-0.030688</td>\n",
       "      <td>0.059878</td>\n",
       "      <td>-0.095459</td>\n",
       "      <td>-0.190789</td>\n",
       "      <td>0.031374</td>\n",
       "      <td>-0.021655</td>\n",
       "      <td>1.000000</td>\n",
       "      <td>-0.075194</td>\n",
       "      <td>-0.063234</td>\n",
       "      <td>0.023697</td>\n",
       "    </tr>\n",
       "    <tr>\n",
       "      <th>Spending_Score</th>\n",
       "      <td>0.005773</td>\n",
       "      <td>-0.061432</td>\n",
       "      <td>0.604278</td>\n",
       "      <td>0.415485</td>\n",
       "      <td>0.103468</td>\n",
       "      <td>0.259112</td>\n",
       "      <td>-0.075194</td>\n",
       "      <td>1.000000</td>\n",
       "      <td>0.094092</td>\n",
       "      <td>0.079258</td>\n",
       "    </tr>\n",
       "    <tr>\n",
       "      <th>Family_Size</th>\n",
       "      <td>0.011801</td>\n",
       "      <td>-0.055911</td>\n",
       "      <td>-0.078956</td>\n",
       "      <td>-0.280517</td>\n",
       "      <td>-0.231260</td>\n",
       "      <td>0.156451</td>\n",
       "      <td>-0.063234</td>\n",
       "      <td>0.094092</td>\n",
       "      <td>1.000000</td>\n",
       "      <td>-0.146823</td>\n",
       "    </tr>\n",
       "    <tr>\n",
       "      <th>Var_1</th>\n",
       "      <td>-0.001116</td>\n",
       "      <td>-0.030861</td>\n",
       "      <td>0.084025</td>\n",
       "      <td>0.168308</td>\n",
       "      <td>0.126698</td>\n",
       "      <td>0.069117</td>\n",
       "      <td>0.023697</td>\n",
       "      <td>0.079258</td>\n",
       "      <td>-0.146823</td>\n",
       "      <td>1.000000</td>\n",
       "    </tr>\n",
       "  </tbody>\n",
       "</table>\n",
       "</div>"
      ],
      "text/plain": [
       "                       ID    Gender  Ever_Married       Age  Graduated  \\\n",
       "ID               1.000000 -0.006155      0.019420 -0.005055  -0.011544   \n",
       "Gender          -0.006155  1.000000     -0.114187 -0.030216   0.034109   \n",
       "Ever_Married     0.019420 -0.114187      1.000000  0.568912   0.198102   \n",
       "Age             -0.005055 -0.030216      0.568912  1.000000   0.237309   \n",
       "Graduated       -0.011544  0.034109      0.198102  0.237309   1.000000   \n",
       "Profession      -0.003726 -0.442594      0.025516  0.018807  -0.029852   \n",
       "Work_Experience -0.030688  0.059878     -0.095459 -0.190789   0.031374   \n",
       "Spending_Score   0.005773 -0.061432      0.604278  0.415485   0.103468   \n",
       "Family_Size      0.011801 -0.055911     -0.078956 -0.280517  -0.231260   \n",
       "Var_1           -0.001116 -0.030861      0.084025  0.168308   0.126698   \n",
       "\n",
       "                 Profession  Work_Experience  Spending_Score  Family_Size  \\\n",
       "ID                -0.003726        -0.030688        0.005773     0.011801   \n",
       "Gender            -0.442594         0.059878       -0.061432    -0.055911   \n",
       "Ever_Married       0.025516        -0.095459        0.604278    -0.078956   \n",
       "Age                0.018807        -0.190789        0.415485    -0.280517   \n",
       "Graduated         -0.029852         0.031374        0.103468    -0.231260   \n",
       "Profession         1.000000        -0.021655        0.259112     0.156451   \n",
       "Work_Experience   -0.021655         1.000000       -0.075194    -0.063234   \n",
       "Spending_Score     0.259112        -0.075194        1.000000     0.094092   \n",
       "Family_Size        0.156451        -0.063234        0.094092     1.000000   \n",
       "Var_1              0.069117         0.023697        0.079258    -0.146823   \n",
       "\n",
       "                    Var_1  \n",
       "ID              -0.001116  \n",
       "Gender          -0.030861  \n",
       "Ever_Married     0.084025  \n",
       "Age              0.168308  \n",
       "Graduated        0.126698  \n",
       "Profession       0.069117  \n",
       "Work_Experience  0.023697  \n",
       "Spending_Score   0.079258  \n",
       "Family_Size     -0.146823  \n",
       "Var_1            1.000000  "
      ]
     },
     "execution_count": 26,
     "metadata": {},
     "output_type": "execute_result"
    }
   ],
   "source": [
    "df_train.corr()"
   ]
  },
  {
   "cell_type": "code",
   "execution_count": 27,
   "metadata": {
    "colab": {},
    "colab_type": "code",
    "id": "CLuFvVW4yTJs"
   },
   "outputs": [],
   "source": [
    "df_train.sort_values([\"Age\"], axis=0, ascending=[True], inplace=True) \n",
    "df_test.sort_values([\"Age\"], axis=0, ascending=[True], inplace=True) "
   ]
  },
  {
   "cell_type": "code",
   "execution_count": 28,
   "metadata": {
    "colab": {},
    "colab_type": "code",
    "id": "bHyUtSMNyw1O"
   },
   "outputs": [],
   "source": [
    "df_train[\"Graduated\"].fillna( method ='ffill', inplace = True) \n",
    "df_test[\"Graduated\"].fillna( method ='ffill', inplace = True) "
   ]
  },
  {
   "cell_type": "code",
   "execution_count": 29,
   "metadata": {
    "colab": {},
    "colab_type": "code",
    "id": "5V7y-fXTy4Sr"
   },
   "outputs": [],
   "source": [
    "df_train.sort_values([\"Gender\"], axis=0, ascending=[True], inplace=True) \n",
    "df_test.sort_values([\"Gender\"], axis=0, ascending=[True], inplace=True)"
   ]
  },
  {
   "cell_type": "code",
   "execution_count": 30,
   "metadata": {
    "colab": {},
    "colab_type": "code",
    "id": "oSJzg3NEzApb"
   },
   "outputs": [],
   "source": [
    "df_train[\"Profession\"].fillna( df_train['Profession'].mode()[0], inplace = True) \n",
    "df_test[\"Profession\"].fillna( df_test['Profession'].mode()[0], inplace = True)"
   ]
  },
  {
   "cell_type": "code",
   "execution_count": 31,
   "metadata": {
    "colab": {},
    "colab_type": "code",
    "id": "9iXWGPuEzHdq"
   },
   "outputs": [],
   "source": [
    "df_train.sort_values([\"Age\"], axis=0, ascending=[True], inplace=True) \n",
    "df_test.sort_values([\"Age\"], axis=0, ascending=[True], inplace=True) "
   ]
  },
  {
   "cell_type": "code",
   "execution_count": 32,
   "metadata": {
    "colab": {},
    "colab_type": "code",
    "id": "fBovoPvezXVr"
   },
   "outputs": [],
   "source": [
    "df_train[\"Work_Experience\"].fillna( df_train['Work_Experience'].mode()[0], inplace = True) \n",
    "df_test[\"Work_Experience\"].fillna( df_test['Work_Experience'].mode()[0], inplace = True)\n"
   ]
  },
  {
   "cell_type": "code",
   "execution_count": 33,
   "metadata": {
    "colab": {},
    "colab_type": "code",
    "id": "rCsC8YLBzfr4"
   },
   "outputs": [],
   "source": [
    "df_train[\"Family_Size\"].fillna( df_train['Family_Size'].mode()[0], inplace = True) \n",
    "df_test[\"Family_Size\"].fillna( df_test['Family_Size'].mode()[0], inplace = True)"
   ]
  },
  {
   "cell_type": "code",
   "execution_count": 34,
   "metadata": {
    "colab": {},
    "colab_type": "code",
    "id": "_HJAQjkbzsLF"
   },
   "outputs": [],
   "source": [
    "df_train[\"Var_1\"].fillna( df_train['Var_1'].mode()[0], inplace = True) \n",
    "df_test[\"Var_1\"].fillna( df_test['Var_1'].mode()[0], inplace = True)"
   ]
  },
  {
   "cell_type": "code",
   "execution_count": 35,
   "metadata": {
    "colab": {
     "base_uri": "https://localhost:8080/",
     "height": 345
    },
    "colab_type": "code",
    "id": "1WfdShOazz6X",
    "outputId": "47a735ab-1aae-4d04-bf99-2a3cc19a0ea3"
   },
   "outputs": [
    {
     "name": "stdout",
     "output_type": "stream",
     "text": [
      "<class 'pandas.core.frame.DataFrame'>\n",
      "Int64Index: 8068 entries, 4321 to 4179\n",
      "Data columns (total 11 columns):\n",
      " #   Column           Non-Null Count  Dtype  \n",
      "---  ------           --------------  -----  \n",
      " 0   ID               8068 non-null   int64  \n",
      " 1   Gender           8068 non-null   int64  \n",
      " 2   Ever_Married     8068 non-null   float64\n",
      " 3   Age              8068 non-null   int64  \n",
      " 4   Graduated        8068 non-null   float64\n",
      " 5   Profession       8068 non-null   float64\n",
      " 6   Work_Experience  8068 non-null   float64\n",
      " 7   Spending_Score   8068 non-null   int64  \n",
      " 8   Family_Size      8068 non-null   float64\n",
      " 9   Var_1            8068 non-null   float64\n",
      " 10  Segmentation     8068 non-null   object \n",
      "dtypes: float64(6), int64(4), object(1)\n",
      "memory usage: 756.4+ KB\n"
     ]
    }
   ],
   "source": [
    "df_train.info()"
   ]
  },
  {
   "cell_type": "code",
   "execution_count": 36,
   "metadata": {
    "colab": {
     "base_uri": "https://localhost:8080/",
     "height": 326
    },
    "colab_type": "code",
    "id": "Tvg45Ag6z56i",
    "outputId": "50107541-1b90-4332-9d57-f709938fb9a9"
   },
   "outputs": [
    {
     "name": "stdout",
     "output_type": "stream",
     "text": [
      "<class 'pandas.core.frame.DataFrame'>\n",
      "Int64Index: 2627 entries, 1127 to 67\n",
      "Data columns (total 10 columns):\n",
      " #   Column           Non-Null Count  Dtype  \n",
      "---  ------           --------------  -----  \n",
      " 0   ID               2627 non-null   int64  \n",
      " 1   Gender           2627 non-null   int64  \n",
      " 2   Ever_Married     2627 non-null   float64\n",
      " 3   Age              2627 non-null   int64  \n",
      " 4   Graduated        2627 non-null   float64\n",
      " 5   Profession       2627 non-null   float64\n",
      " 6   Work_Experience  2627 non-null   float64\n",
      " 7   Spending_Score   2627 non-null   int64  \n",
      " 8   Family_Size      2627 non-null   float64\n",
      " 9   Var_1            2627 non-null   float64\n",
      "dtypes: float64(6), int64(4)\n",
      "memory usage: 225.8 KB\n"
     ]
    }
   ],
   "source": [
    "df_test.info()"
   ]
  },
  {
   "cell_type": "code",
   "execution_count": 37,
   "metadata": {
    "colab": {
     "base_uri": "https://localhost:8080/",
     "height": 218
    },
    "colab_type": "code",
    "id": "_KDFXJm901SQ",
    "outputId": "437a4990-7240-4895-ff13-423d20765f04"
   },
   "outputs": [
    {
     "data": {
      "text/html": [
       "<div>\n",
       "<style scoped>\n",
       "    .dataframe tbody tr th:only-of-type {\n",
       "        vertical-align: middle;\n",
       "    }\n",
       "\n",
       "    .dataframe tbody tr th {\n",
       "        vertical-align: top;\n",
       "    }\n",
       "\n",
       "    .dataframe thead th {\n",
       "        text-align: right;\n",
       "    }\n",
       "</style>\n",
       "<table border=\"1\" class=\"dataframe\">\n",
       "  <thead>\n",
       "    <tr style=\"text-align: right;\">\n",
       "      <th></th>\n",
       "      <th>ID</th>\n",
       "      <th>Gender</th>\n",
       "      <th>Ever_Married</th>\n",
       "      <th>Age</th>\n",
       "      <th>Graduated</th>\n",
       "      <th>Profession</th>\n",
       "      <th>Work_Experience</th>\n",
       "      <th>Spending_Score</th>\n",
       "      <th>Family_Size</th>\n",
       "      <th>Var_1</th>\n",
       "      <th>Segmentation</th>\n",
       "    </tr>\n",
       "  </thead>\n",
       "  <tbody>\n",
       "    <tr>\n",
       "      <th>4321</th>\n",
       "      <td>461253</td>\n",
       "      <td>2</td>\n",
       "      <td>1.0</td>\n",
       "      <td>18</td>\n",
       "      <td>1.0</td>\n",
       "      <td>4.0</td>\n",
       "      <td>0.0</td>\n",
       "      <td>1</td>\n",
       "      <td>5.0</td>\n",
       "      <td>4.0</td>\n",
       "      <td>D</td>\n",
       "    </tr>\n",
       "    <tr>\n",
       "      <th>5348</th>\n",
       "      <td>461312</td>\n",
       "      <td>1</td>\n",
       "      <td>1.0</td>\n",
       "      <td>18</td>\n",
       "      <td>1.0</td>\n",
       "      <td>4.0</td>\n",
       "      <td>3.0</td>\n",
       "      <td>1</td>\n",
       "      <td>3.0</td>\n",
       "      <td>2.0</td>\n",
       "      <td>D</td>\n",
       "    </tr>\n",
       "    <tr>\n",
       "      <th>6201</th>\n",
       "      <td>465354</td>\n",
       "      <td>1</td>\n",
       "      <td>1.0</td>\n",
       "      <td>18</td>\n",
       "      <td>1.0</td>\n",
       "      <td>3.0</td>\n",
       "      <td>0.0</td>\n",
       "      <td>1</td>\n",
       "      <td>5.0</td>\n",
       "      <td>2.0</td>\n",
       "      <td>C</td>\n",
       "    </tr>\n",
       "    <tr>\n",
       "      <th>1441</th>\n",
       "      <td>466846</td>\n",
       "      <td>1</td>\n",
       "      <td>1.0</td>\n",
       "      <td>18</td>\n",
       "      <td>1.0</td>\n",
       "      <td>4.0</td>\n",
       "      <td>2.0</td>\n",
       "      <td>1</td>\n",
       "      <td>4.0</td>\n",
       "      <td>2.0</td>\n",
       "      <td>D</td>\n",
       "    </tr>\n",
       "    <tr>\n",
       "      <th>4714</th>\n",
       "      <td>461279</td>\n",
       "      <td>1</td>\n",
       "      <td>1.0</td>\n",
       "      <td>18</td>\n",
       "      <td>1.0</td>\n",
       "      <td>3.0</td>\n",
       "      <td>4.0</td>\n",
       "      <td>1</td>\n",
       "      <td>2.0</td>\n",
       "      <td>6.0</td>\n",
       "      <td>A</td>\n",
       "    </tr>\n",
       "  </tbody>\n",
       "</table>\n",
       "</div>"
      ],
      "text/plain": [
       "          ID  Gender  Ever_Married  Age  Graduated  Profession  \\\n",
       "4321  461253       2           1.0   18        1.0         4.0   \n",
       "5348  461312       1           1.0   18        1.0         4.0   \n",
       "6201  465354       1           1.0   18        1.0         3.0   \n",
       "1441  466846       1           1.0   18        1.0         4.0   \n",
       "4714  461279       1           1.0   18        1.0         3.0   \n",
       "\n",
       "      Work_Experience  Spending_Score  Family_Size  Var_1 Segmentation  \n",
       "4321              0.0               1          5.0    4.0            D  \n",
       "5348              3.0               1          3.0    2.0            D  \n",
       "6201              0.0               1          5.0    2.0            C  \n",
       "1441              2.0               1          4.0    2.0            D  \n",
       "4714              4.0               1          2.0    6.0            A  "
      ]
     },
     "execution_count": 37,
     "metadata": {},
     "output_type": "execute_result"
    }
   ],
   "source": [
    "df_train.head()"
   ]
  },
  {
   "cell_type": "code",
   "execution_count": 38,
   "metadata": {
    "colab": {},
    "colab_type": "code",
    "id": "ofzbYYoY1INs"
   },
   "outputs": [],
   "source": [
    "df_train.sort_values([\"ID\"], axis=0, ascending=[True], inplace=True) \n",
    "df_test.sort_values([\"ID\"], axis=0, ascending=[True], inplace=True) "
   ]
  },
  {
   "cell_type": "code",
   "execution_count": 39,
   "metadata": {
    "colab": {},
    "colab_type": "code",
    "id": "9vEn6asT1UQv"
   },
   "outputs": [],
   "source": [
    "y_train=df_train['Segmentation']"
   ]
  },
  {
   "cell_type": "code",
   "execution_count": 40,
   "metadata": {
    "colab": {},
    "colab_type": "code",
    "id": "i4TKpW0J1WJp"
   },
   "outputs": [],
   "source": [
    "x_train=df_train.drop(['Segmentation'],axis=1)\n",
    "#df_test=df_test.drop(['ID'],axis=1)"
   ]
  },
  {
   "cell_type": "code",
   "execution_count": null,
   "metadata": {
    "colab": {},
    "colab_type": "code",
    "id": "1b6Iam5f13LD"
   },
   "outputs": [],
   "source": []
  },
  {
   "cell_type": "code",
   "execution_count": null,
   "metadata": {
    "colab": {},
    "colab_type": "code",
    "id": "iezlUxGX2WpJ"
   },
   "outputs": [],
   "source": []
  },
  {
   "cell_type": "code",
   "execution_count": 41,
   "metadata": {
    "colab": {
     "base_uri": "https://localhost:8080/",
     "height": 235
    },
    "colab_type": "code",
    "id": "x35hbwbU3GUz",
    "outputId": "f90415d5-f387-42db-ceb5-20030fa340c4"
   },
   "outputs": [
    {
     "data": {
      "text/plain": [
       "7238    C\n",
       "5546    C\n",
       "4373    C\n",
       "4695    D\n",
       "3333    D\n",
       "       ..\n",
       "4791    C\n",
       "570     D\n",
       "5832    D\n",
       "4140    A\n",
       "4388    B\n",
       "Name: Segmentation, Length: 8068, dtype: object"
      ]
     },
     "execution_count": 41,
     "metadata": {},
     "output_type": "execute_result"
    }
   ],
   "source": [
    "y_train"
   ]
  },
  {
   "cell_type": "code",
   "execution_count": 42,
   "metadata": {
    "colab": {},
    "colab_type": "code",
    "id": "dNpzRkTU2bxd"
   },
   "outputs": [],
   "source": [
    "map={\"A\":1,\"B\":2,\"C\":3,\"D\":4}\n",
    "y_train1 = y_train.map(map)\n"
   ]
  },
  {
   "cell_type": "code",
   "execution_count": 43,
   "metadata": {
    "colab": {
     "base_uri": "https://localhost:8080/",
     "height": 427
    },
    "colab_type": "code",
    "id": "eIRLxqQ-27WO",
    "outputId": "3019d7ff-d937-4ddd-cc24-a94503fe0da5"
   },
   "outputs": [
    {
     "data": {
      "text/html": [
       "<div>\n",
       "<style scoped>\n",
       "    .dataframe tbody tr th:only-of-type {\n",
       "        vertical-align: middle;\n",
       "    }\n",
       "\n",
       "    .dataframe tbody tr th {\n",
       "        vertical-align: top;\n",
       "    }\n",
       "\n",
       "    .dataframe thead th {\n",
       "        text-align: right;\n",
       "    }\n",
       "</style>\n",
       "<table border=\"1\" class=\"dataframe\">\n",
       "  <thead>\n",
       "    <tr style=\"text-align: right;\">\n",
       "      <th></th>\n",
       "      <th>ID</th>\n",
       "      <th>Gender</th>\n",
       "      <th>Ever_Married</th>\n",
       "      <th>Age</th>\n",
       "      <th>Graduated</th>\n",
       "      <th>Profession</th>\n",
       "      <th>Work_Experience</th>\n",
       "      <th>Spending_Score</th>\n",
       "      <th>Family_Size</th>\n",
       "      <th>Var_1</th>\n",
       "      <th>Segmentation</th>\n",
       "    </tr>\n",
       "  </thead>\n",
       "  <tbody>\n",
       "    <tr>\n",
       "      <th>3</th>\n",
       "      <td>461735</td>\n",
       "      <td>Male</td>\n",
       "      <td>Yes</td>\n",
       "      <td>67</td>\n",
       "      <td>Yes</td>\n",
       "      <td>Lawyer</td>\n",
       "      <td>0.0</td>\n",
       "      <td>High</td>\n",
       "      <td>2.0</td>\n",
       "      <td>Cat_6</td>\n",
       "      <td>B</td>\n",
       "    </tr>\n",
       "    <tr>\n",
       "      <th>5</th>\n",
       "      <td>461319</td>\n",
       "      <td>Male</td>\n",
       "      <td>Yes</td>\n",
       "      <td>56</td>\n",
       "      <td>No</td>\n",
       "      <td>Artist</td>\n",
       "      <td>0.0</td>\n",
       "      <td>Average</td>\n",
       "      <td>2.0</td>\n",
       "      <td>Cat_6</td>\n",
       "      <td>C</td>\n",
       "    </tr>\n",
       "    <tr>\n",
       "      <th>8</th>\n",
       "      <td>465015</td>\n",
       "      <td>Female</td>\n",
       "      <td>Yes</td>\n",
       "      <td>61</td>\n",
       "      <td>Yes</td>\n",
       "      <td>Engineer</td>\n",
       "      <td>0.0</td>\n",
       "      <td>Low</td>\n",
       "      <td>3.0</td>\n",
       "      <td>Cat_7</td>\n",
       "      <td>D</td>\n",
       "    </tr>\n",
       "    <tr>\n",
       "      <th>12</th>\n",
       "      <td>461230</td>\n",
       "      <td>Female</td>\n",
       "      <td>No</td>\n",
       "      <td>19</td>\n",
       "      <td>No</td>\n",
       "      <td>Executive</td>\n",
       "      <td>0.0</td>\n",
       "      <td>Low</td>\n",
       "      <td>NaN</td>\n",
       "      <td>Cat_3</td>\n",
       "      <td>D</td>\n",
       "    </tr>\n",
       "    <tr>\n",
       "      <th>14</th>\n",
       "      <td>460849</td>\n",
       "      <td>Female</td>\n",
       "      <td>Yes</td>\n",
       "      <td>58</td>\n",
       "      <td>No</td>\n",
       "      <td>Doctor</td>\n",
       "      <td>0.0</td>\n",
       "      <td>Low</td>\n",
       "      <td>1.0</td>\n",
       "      <td>Cat_3</td>\n",
       "      <td>B</td>\n",
       "    </tr>\n",
       "    <tr>\n",
       "      <th>...</th>\n",
       "      <td>...</td>\n",
       "      <td>...</td>\n",
       "      <td>...</td>\n",
       "      <td>...</td>\n",
       "      <td>...</td>\n",
       "      <td>...</td>\n",
       "      <td>...</td>\n",
       "      <td>...</td>\n",
       "      <td>...</td>\n",
       "      <td>...</td>\n",
       "      <td>...</td>\n",
       "    </tr>\n",
       "    <tr>\n",
       "      <th>8060</th>\n",
       "      <td>463613</td>\n",
       "      <td>Female</td>\n",
       "      <td>Yes</td>\n",
       "      <td>48</td>\n",
       "      <td>Yes</td>\n",
       "      <td>Artist</td>\n",
       "      <td>0.0</td>\n",
       "      <td>Average</td>\n",
       "      <td>6.0</td>\n",
       "      <td>Cat_6</td>\n",
       "      <td>A</td>\n",
       "    </tr>\n",
       "    <tr>\n",
       "      <th>8061</th>\n",
       "      <td>465231</td>\n",
       "      <td>Male</td>\n",
       "      <td>Yes</td>\n",
       "      <td>65</td>\n",
       "      <td>No</td>\n",
       "      <td>Artist</td>\n",
       "      <td>0.0</td>\n",
       "      <td>Average</td>\n",
       "      <td>2.0</td>\n",
       "      <td>Cat_6</td>\n",
       "      <td>C</td>\n",
       "    </tr>\n",
       "    <tr>\n",
       "      <th>8062</th>\n",
       "      <td>463002</td>\n",
       "      <td>Male</td>\n",
       "      <td>Yes</td>\n",
       "      <td>41</td>\n",
       "      <td>Yes</td>\n",
       "      <td>Artist</td>\n",
       "      <td>0.0</td>\n",
       "      <td>High</td>\n",
       "      <td>5.0</td>\n",
       "      <td>Cat_6</td>\n",
       "      <td>B</td>\n",
       "    </tr>\n",
       "    <tr>\n",
       "      <th>8063</th>\n",
       "      <td>464018</td>\n",
       "      <td>Male</td>\n",
       "      <td>No</td>\n",
       "      <td>22</td>\n",
       "      <td>No</td>\n",
       "      <td>NaN</td>\n",
       "      <td>0.0</td>\n",
       "      <td>Low</td>\n",
       "      <td>7.0</td>\n",
       "      <td>Cat_1</td>\n",
       "      <td>D</td>\n",
       "    </tr>\n",
       "    <tr>\n",
       "      <th>8067</th>\n",
       "      <td>461879</td>\n",
       "      <td>Male</td>\n",
       "      <td>Yes</td>\n",
       "      <td>37</td>\n",
       "      <td>Yes</td>\n",
       "      <td>Executive</td>\n",
       "      <td>0.0</td>\n",
       "      <td>Average</td>\n",
       "      <td>3.0</td>\n",
       "      <td>Cat_4</td>\n",
       "      <td>B</td>\n",
       "    </tr>\n",
       "  </tbody>\n",
       "</table>\n",
       "<p>2318 rows × 11 columns</p>\n",
       "</div>"
      ],
      "text/plain": [
       "          ID  Gender Ever_Married  Age Graduated Profession  Work_Experience  \\\n",
       "3     461735    Male          Yes   67       Yes     Lawyer              0.0   \n",
       "5     461319    Male          Yes   56        No     Artist              0.0   \n",
       "8     465015  Female          Yes   61       Yes   Engineer              0.0   \n",
       "12    461230  Female           No   19        No  Executive              0.0   \n",
       "14    460849  Female          Yes   58        No     Doctor              0.0   \n",
       "...      ...     ...          ...  ...       ...        ...              ...   \n",
       "8060  463613  Female          Yes   48       Yes     Artist              0.0   \n",
       "8061  465231    Male          Yes   65        No     Artist              0.0   \n",
       "8062  463002    Male          Yes   41       Yes     Artist              0.0   \n",
       "8063  464018    Male           No   22        No        NaN              0.0   \n",
       "8067  461879    Male          Yes   37       Yes  Executive              0.0   \n",
       "\n",
       "     Spending_Score  Family_Size  Var_1 Segmentation  \n",
       "3              High          2.0  Cat_6            B  \n",
       "5           Average          2.0  Cat_6            C  \n",
       "8               Low          3.0  Cat_7            D  \n",
       "12              Low          NaN  Cat_3            D  \n",
       "14              Low          1.0  Cat_3            B  \n",
       "...             ...          ...    ...          ...  \n",
       "8060        Average          6.0  Cat_6            A  \n",
       "8061        Average          2.0  Cat_6            C  \n",
       "8062           High          5.0  Cat_6            B  \n",
       "8063            Low          7.0  Cat_1            D  \n",
       "8067        Average          3.0  Cat_4            B  \n",
       "\n",
       "[2318 rows x 11 columns]"
      ]
     },
     "execution_count": 43,
     "metadata": {},
     "output_type": "execute_result"
    }
   ],
   "source": [
    "#x_train['Age']=(x_train['Age']-x_train['Age'].mean())/x_train['Age'].std()\n",
    "x"
   ]
  },
  {
   "cell_type": "code",
   "execution_count": 44,
   "metadata": {
    "colab": {},
    "colab_type": "code",
    "id": "dJ79T3E93jAS"
   },
   "outputs": [],
   "source": [
    "#from xgboost import XGBClassifier"
   ]
  },
  {
   "cell_type": "code",
   "execution_count": 45,
   "metadata": {
    "colab": {},
    "colab_type": "code",
    "id": "cjINkHfI3qlt"
   },
   "outputs": [],
   "source": [
    "#XGBClassifier = XGBClassifier()\n"
   ]
  },
  {
   "cell_type": "code",
   "execution_count": 46,
   "metadata": {
    "colab": {
     "base_uri": "https://localhost:8080/",
     "height": 145
    },
    "colab_type": "code",
    "id": "Eb3sU7-23uIW",
    "outputId": "0e4231e1-8823-4a78-f307-908ff03e1258"
   },
   "outputs": [],
   "source": [
    "#XGBClassifier.fit(x_train,y_train)"
   ]
  },
  {
   "cell_type": "code",
   "execution_count": 47,
   "metadata": {
    "colab": {},
    "colab_type": "code",
    "id": "5owh16u33zL6"
   },
   "outputs": [],
   "source": [
    "#y_pred=XGBClassifier.predict(df_test)\n"
   ]
  },
  {
   "cell_type": "code",
   "execution_count": 48,
   "metadata": {},
   "outputs": [],
   "source": [
    "from sklearn.ensemble import RandomForestClassifier\n",
    "classifier = RandomForestClassifier(n_estimators = 10, criterion = 'entropy', random_state = 0)"
   ]
  },
  {
   "cell_type": "code",
   "execution_count": 50,
   "metadata": {},
   "outputs": [],
   "source": [
    "RandomForestClassifier =RandomForestClassifier()"
   ]
  },
  {
   "cell_type": "code",
   "execution_count": 51,
   "metadata": {},
   "outputs": [
    {
     "data": {
      "text/plain": [
       "RandomForestClassifier(bootstrap=True, ccp_alpha=0.0, class_weight=None,\n",
       "                       criterion='gini', max_depth=None, max_features='auto',\n",
       "                       max_leaf_nodes=None, max_samples=None,\n",
       "                       min_impurity_decrease=0.0, min_impurity_split=None,\n",
       "                       min_samples_leaf=1, min_samples_split=2,\n",
       "                       min_weight_fraction_leaf=0.0, n_estimators=100,\n",
       "                       n_jobs=None, oob_score=False, random_state=None,\n",
       "                       verbose=0, warm_start=False)"
      ]
     },
     "execution_count": 51,
     "metadata": {},
     "output_type": "execute_result"
    }
   ],
   "source": [
    "RandomForestClassifier.fit(x_train,y_train)"
   ]
  },
  {
   "cell_type": "code",
   "execution_count": 52,
   "metadata": {},
   "outputs": [],
   "source": [
    "y_pred=RandomForestClassifier.predict(df_test)"
   ]
  },
  {
   "cell_type": "code",
   "execution_count": 53,
   "metadata": {
    "colab": {
     "base_uri": "https://localhost:8080/",
     "height": 35
    },
    "colab_type": "code",
    "id": "FUQGlCLT7QOD",
    "outputId": "3834ac80-d2fa-40fb-f8ed-ec47c0a4ad8f"
   },
   "outputs": [
    {
     "data": {
      "text/plain": [
       "array(['B', 'C', 'A', ..., 'A', 'B', 'A'], dtype=object)"
      ]
     },
     "execution_count": 53,
     "metadata": {},
     "output_type": "execute_result"
    }
   ],
   "source": [
    "y_pred"
   ]
  },
  {
   "cell_type": "code",
   "execution_count": 54,
   "metadata": {
    "colab": {},
    "colab_type": "code",
    "id": "iHquWaIKQQ3G"
   },
   "outputs": [],
   "source": [
    "from sklearn.neighbors import KNeighborsClassifier\n",
    "neigh = KNeighborsClassifier(n_neighbors=1,leaf_size=10,weights='distance',p=1,n_jobs=-1)"
   ]
  },
  {
   "cell_type": "code",
   "execution_count": 55,
   "metadata": {
    "colab": {
     "base_uri": "https://localhost:8080/",
     "height": 218
    },
    "colab_type": "code",
    "id": "0TXS0e0_pRu3",
    "outputId": "ea7a1409-9a4e-4640-cf08-c4a0c3fd2ebe"
   },
   "outputs": [
    {
     "data": {
      "text/html": [
       "<div>\n",
       "<style scoped>\n",
       "    .dataframe tbody tr th:only-of-type {\n",
       "        vertical-align: middle;\n",
       "    }\n",
       "\n",
       "    .dataframe tbody tr th {\n",
       "        vertical-align: top;\n",
       "    }\n",
       "\n",
       "    .dataframe thead th {\n",
       "        text-align: right;\n",
       "    }\n",
       "</style>\n",
       "<table border=\"1\" class=\"dataframe\">\n",
       "  <thead>\n",
       "    <tr style=\"text-align: right;\">\n",
       "      <th></th>\n",
       "      <th>ID</th>\n",
       "      <th>Gender</th>\n",
       "      <th>Ever_Married</th>\n",
       "      <th>Age</th>\n",
       "      <th>Graduated</th>\n",
       "      <th>Profession</th>\n",
       "      <th>Work_Experience</th>\n",
       "      <th>Spending_Score</th>\n",
       "      <th>Family_Size</th>\n",
       "      <th>Var_1</th>\n",
       "    </tr>\n",
       "  </thead>\n",
       "  <tbody>\n",
       "    <tr>\n",
       "      <th>7238</th>\n",
       "      <td>458982</td>\n",
       "      <td>1</td>\n",
       "      <td>2.0</td>\n",
       "      <td>61</td>\n",
       "      <td>2.0</td>\n",
       "      <td>5.0</td>\n",
       "      <td>1.0</td>\n",
       "      <td>3</td>\n",
       "      <td>3.0</td>\n",
       "      <td>6.0</td>\n",
       "    </tr>\n",
       "    <tr>\n",
       "      <th>5546</th>\n",
       "      <td>458983</td>\n",
       "      <td>2</td>\n",
       "      <td>2.0</td>\n",
       "      <td>63</td>\n",
       "      <td>2.0</td>\n",
       "      <td>5.0</td>\n",
       "      <td>0.0</td>\n",
       "      <td>3</td>\n",
       "      <td>5.0</td>\n",
       "      <td>6.0</td>\n",
       "    </tr>\n",
       "    <tr>\n",
       "      <th>4373</th>\n",
       "      <td>458984</td>\n",
       "      <td>1</td>\n",
       "      <td>2.0</td>\n",
       "      <td>39</td>\n",
       "      <td>2.0</td>\n",
       "      <td>4.0</td>\n",
       "      <td>0.0</td>\n",
       "      <td>2</td>\n",
       "      <td>3.0</td>\n",
       "      <td>6.0</td>\n",
       "    </tr>\n",
       "    <tr>\n",
       "      <th>4695</th>\n",
       "      <td>458985</td>\n",
       "      <td>1</td>\n",
       "      <td>1.0</td>\n",
       "      <td>23</td>\n",
       "      <td>1.0</td>\n",
       "      <td>4.0</td>\n",
       "      <td>1.0</td>\n",
       "      <td>1</td>\n",
       "      <td>4.0</td>\n",
       "      <td>6.0</td>\n",
       "    </tr>\n",
       "    <tr>\n",
       "      <th>3333</th>\n",
       "      <td>458986</td>\n",
       "      <td>1</td>\n",
       "      <td>1.0</td>\n",
       "      <td>18</td>\n",
       "      <td>1.0</td>\n",
       "      <td>4.0</td>\n",
       "      <td>7.0</td>\n",
       "      <td>1</td>\n",
       "      <td>4.0</td>\n",
       "      <td>6.0</td>\n",
       "    </tr>\n",
       "  </tbody>\n",
       "</table>\n",
       "</div>"
      ],
      "text/plain": [
       "          ID  Gender  Ever_Married  Age  Graduated  Profession  \\\n",
       "7238  458982       1           2.0   61        2.0         5.0   \n",
       "5546  458983       2           2.0   63        2.0         5.0   \n",
       "4373  458984       1           2.0   39        2.0         4.0   \n",
       "4695  458985       1           1.0   23        1.0         4.0   \n",
       "3333  458986       1           1.0   18        1.0         4.0   \n",
       "\n",
       "      Work_Experience  Spending_Score  Family_Size  Var_1  \n",
       "7238              1.0               3          3.0    6.0  \n",
       "5546              0.0               3          5.0    6.0  \n",
       "4373              0.0               2          3.0    6.0  \n",
       "4695              1.0               1          4.0    6.0  \n",
       "3333              7.0               1          4.0    6.0  "
      ]
     },
     "execution_count": 55,
     "metadata": {},
     "output_type": "execute_result"
    }
   ],
   "source": [
    "x_train.head()"
   ]
  },
  {
   "cell_type": "code",
   "execution_count": 56,
   "metadata": {
    "colab": {},
    "colab_type": "code",
    "id": "xLBaCp6Wuw0N"
   },
   "outputs": [],
   "source": [
    "x_train['Famil/spending']=x_train['Spending_Score']*x_train['Family_Size']*x_train['Gender']\n",
    "df_test['Famil/spending']=df_test['Spending_Score']*df_test['Family_Size']*x_train['Gender']"
   ]
  },
  {
   "cell_type": "code",
   "execution_count": 57,
   "metadata": {
    "colab": {},
    "colab_type": "code",
    "id": "uRYa-KSyyJ0P"
   },
   "outputs": [],
   "source": [
    "x_train['gender/marr']=x_train['Gender']*x_train['Ever_Married']\n",
    "df_test['gender/marr']=df_test['Gender']*df_test['Ever_Married']"
   ]
  },
  {
   "cell_type": "code",
   "execution_count": 58,
   "metadata": {
    "colab": {},
    "colab_type": "code",
    "id": "HMV8UKtU8sfO"
   },
   "outputs": [],
   "source": [
    "x_train=x_train.drop(['Work_Experience'],axis=1)\n",
    "df_test=df_test.drop(['Work_Experience'],axis=1)"
   ]
  },
  {
   "cell_type": "code",
   "execution_count": 59,
   "metadata": {
    "colab": {},
    "colab_type": "code",
    "id": "rSJ8kX3P9eB1"
   },
   "outputs": [],
   "source": [
    "x_train['var1/id']=x_train['Var_1']*x_train['ID']\n",
    "df_test['var1/id']=df_test['Var_1']*df_test['ID']\n"
   ]
  },
  {
   "cell_type": "code",
   "execution_count": 60,
   "metadata": {
    "colab": {
     "base_uri": "https://localhost:8080/",
     "height": 398
    },
    "colab_type": "code",
    "id": "EtbCAcYfAU-l",
    "outputId": "c680f676-aa68-463c-e2de-5cb9e226c970"
   },
   "outputs": [
    {
     "data": {
      "text/html": [
       "<div>\n",
       "<style scoped>\n",
       "    .dataframe tbody tr th:only-of-type {\n",
       "        vertical-align: middle;\n",
       "    }\n",
       "\n",
       "    .dataframe tbody tr th {\n",
       "        vertical-align: top;\n",
       "    }\n",
       "\n",
       "    .dataframe thead th {\n",
       "        text-align: right;\n",
       "    }\n",
       "</style>\n",
       "<table border=\"1\" class=\"dataframe\">\n",
       "  <thead>\n",
       "    <tr style=\"text-align: right;\">\n",
       "      <th></th>\n",
       "      <th>ID</th>\n",
       "      <th>Gender</th>\n",
       "      <th>Ever_Married</th>\n",
       "      <th>Age</th>\n",
       "      <th>Graduated</th>\n",
       "      <th>Profession</th>\n",
       "      <th>Work_Experience</th>\n",
       "      <th>Spending_Score</th>\n",
       "      <th>Family_Size</th>\n",
       "      <th>Var_1</th>\n",
       "      <th>target</th>\n",
       "    </tr>\n",
       "  </thead>\n",
       "  <tbody>\n",
       "    <tr>\n",
       "      <th>ID</th>\n",
       "      <td>1.000000</td>\n",
       "      <td>-0.006155</td>\n",
       "      <td>0.019420</td>\n",
       "      <td>-0.005055</td>\n",
       "      <td>-0.013691</td>\n",
       "      <td>-0.010002</td>\n",
       "      <td>-0.018627</td>\n",
       "      <td>0.005773</td>\n",
       "      <td>0.012601</td>\n",
       "      <td>-0.001955</td>\n",
       "      <td>-0.009104</td>\n",
       "    </tr>\n",
       "    <tr>\n",
       "      <th>Gender</th>\n",
       "      <td>-0.006155</td>\n",
       "      <td>1.000000</td>\n",
       "      <td>-0.114187</td>\n",
       "      <td>-0.030216</td>\n",
       "      <td>0.033436</td>\n",
       "      <td>-0.259887</td>\n",
       "      <td>0.057212</td>\n",
       "      <td>-0.061432</td>\n",
       "      <td>-0.057920</td>\n",
       "      <td>-0.029660</td>\n",
       "      <td>-0.026403</td>\n",
       "    </tr>\n",
       "    <tr>\n",
       "      <th>Ever_Married</th>\n",
       "      <td>0.019420</td>\n",
       "      <td>-0.114187</td>\n",
       "      <td>1.000000</td>\n",
       "      <td>0.568912</td>\n",
       "      <td>0.199449</td>\n",
       "      <td>0.095532</td>\n",
       "      <td>-0.090410</td>\n",
       "      <td>0.604278</td>\n",
       "      <td>-0.069689</td>\n",
       "      <td>0.083725</td>\n",
       "      <td>-0.220317</td>\n",
       "    </tr>\n",
       "    <tr>\n",
       "      <th>Age</th>\n",
       "      <td>-0.005055</td>\n",
       "      <td>-0.030216</td>\n",
       "      <td>0.568912</td>\n",
       "      <td>1.000000</td>\n",
       "      <td>0.236881</td>\n",
       "      <td>0.121673</td>\n",
       "      <td>-0.177344</td>\n",
       "      <td>0.415485</td>\n",
       "      <td>-0.270793</td>\n",
       "      <td>0.167332</td>\n",
       "      <td>-0.243552</td>\n",
       "    </tr>\n",
       "    <tr>\n",
       "      <th>Graduated</th>\n",
       "      <td>-0.013691</td>\n",
       "      <td>0.033436</td>\n",
       "      <td>0.199449</td>\n",
       "      <td>0.236881</td>\n",
       "      <td>1.000000</td>\n",
       "      <td>0.076437</td>\n",
       "      <td>0.036285</td>\n",
       "      <td>0.104391</td>\n",
       "      <td>-0.218213</td>\n",
       "      <td>0.123487</td>\n",
       "      <td>-0.179263</td>\n",
       "    </tr>\n",
       "    <tr>\n",
       "      <th>Profession</th>\n",
       "      <td>-0.010002</td>\n",
       "      <td>-0.259887</td>\n",
       "      <td>0.095532</td>\n",
       "      <td>0.121673</td>\n",
       "      <td>0.076437</td>\n",
       "      <td>1.000000</td>\n",
       "      <td>-0.007441</td>\n",
       "      <td>0.185480</td>\n",
       "      <td>0.016935</td>\n",
       "      <td>0.071699</td>\n",
       "      <td>0.067891</td>\n",
       "    </tr>\n",
       "    <tr>\n",
       "      <th>Work_Experience</th>\n",
       "      <td>-0.018627</td>\n",
       "      <td>0.057212</td>\n",
       "      <td>-0.090410</td>\n",
       "      <td>-0.177344</td>\n",
       "      <td>0.036285</td>\n",
       "      <td>-0.007441</td>\n",
       "      <td>1.000000</td>\n",
       "      <td>-0.074266</td>\n",
       "      <td>-0.059565</td>\n",
       "      <td>0.025826</td>\n",
       "      <td>0.008216</td>\n",
       "    </tr>\n",
       "    <tr>\n",
       "      <th>Spending_Score</th>\n",
       "      <td>0.005773</td>\n",
       "      <td>-0.061432</td>\n",
       "      <td>0.604278</td>\n",
       "      <td>0.415485</td>\n",
       "      <td>0.104391</td>\n",
       "      <td>0.185480</td>\n",
       "      <td>-0.074266</td>\n",
       "      <td>1.000000</td>\n",
       "      <td>0.100744</td>\n",
       "      <td>0.078314</td>\n",
       "      <td>-0.109837</td>\n",
       "    </tr>\n",
       "    <tr>\n",
       "      <th>Family_Size</th>\n",
       "      <td>0.012601</td>\n",
       "      <td>-0.057920</td>\n",
       "      <td>-0.069689</td>\n",
       "      <td>-0.270793</td>\n",
       "      <td>-0.218213</td>\n",
       "      <td>0.016935</td>\n",
       "      <td>-0.059565</td>\n",
       "      <td>0.100744</td>\n",
       "      <td>1.000000</td>\n",
       "      <td>-0.137801</td>\n",
       "      <td>0.185486</td>\n",
       "    </tr>\n",
       "    <tr>\n",
       "      <th>Var_1</th>\n",
       "      <td>-0.001955</td>\n",
       "      <td>-0.029660</td>\n",
       "      <td>0.083725</td>\n",
       "      <td>0.167332</td>\n",
       "      <td>0.123487</td>\n",
       "      <td>0.071699</td>\n",
       "      <td>0.025826</td>\n",
       "      <td>0.078314</td>\n",
       "      <td>-0.137801</td>\n",
       "      <td>1.000000</td>\n",
       "      <td>-0.018339</td>\n",
       "    </tr>\n",
       "    <tr>\n",
       "      <th>target</th>\n",
       "      <td>-0.009104</td>\n",
       "      <td>-0.026403</td>\n",
       "      <td>-0.220317</td>\n",
       "      <td>-0.243552</td>\n",
       "      <td>-0.179263</td>\n",
       "      <td>0.067891</td>\n",
       "      <td>0.008216</td>\n",
       "      <td>-0.109837</td>\n",
       "      <td>0.185486</td>\n",
       "      <td>-0.018339</td>\n",
       "      <td>1.000000</td>\n",
       "    </tr>\n",
       "  </tbody>\n",
       "</table>\n",
       "</div>"
      ],
      "text/plain": [
       "                       ID    Gender  Ever_Married       Age  Graduated  \\\n",
       "ID               1.000000 -0.006155      0.019420 -0.005055  -0.013691   \n",
       "Gender          -0.006155  1.000000     -0.114187 -0.030216   0.033436   \n",
       "Ever_Married     0.019420 -0.114187      1.000000  0.568912   0.199449   \n",
       "Age             -0.005055 -0.030216      0.568912  1.000000   0.236881   \n",
       "Graduated       -0.013691  0.033436      0.199449  0.236881   1.000000   \n",
       "Profession      -0.010002 -0.259887      0.095532  0.121673   0.076437   \n",
       "Work_Experience -0.018627  0.057212     -0.090410 -0.177344   0.036285   \n",
       "Spending_Score   0.005773 -0.061432      0.604278  0.415485   0.104391   \n",
       "Family_Size      0.012601 -0.057920     -0.069689 -0.270793  -0.218213   \n",
       "Var_1           -0.001955 -0.029660      0.083725  0.167332   0.123487   \n",
       "target          -0.009104 -0.026403     -0.220317 -0.243552  -0.179263   \n",
       "\n",
       "                 Profession  Work_Experience  Spending_Score  Family_Size  \\\n",
       "ID                -0.010002        -0.018627        0.005773     0.012601   \n",
       "Gender            -0.259887         0.057212       -0.061432    -0.057920   \n",
       "Ever_Married       0.095532        -0.090410        0.604278    -0.069689   \n",
       "Age                0.121673        -0.177344        0.415485    -0.270793   \n",
       "Graduated          0.076437         0.036285        0.104391    -0.218213   \n",
       "Profession         1.000000        -0.007441        0.185480     0.016935   \n",
       "Work_Experience   -0.007441         1.000000       -0.074266    -0.059565   \n",
       "Spending_Score     0.185480        -0.074266        1.000000     0.100744   \n",
       "Family_Size        0.016935        -0.059565        0.100744     1.000000   \n",
       "Var_1              0.071699         0.025826        0.078314    -0.137801   \n",
       "target             0.067891         0.008216       -0.109837     0.185486   \n",
       "\n",
       "                    Var_1    target  \n",
       "ID              -0.001955 -0.009104  \n",
       "Gender          -0.029660 -0.026403  \n",
       "Ever_Married     0.083725 -0.220317  \n",
       "Age              0.167332 -0.243552  \n",
       "Graduated        0.123487 -0.179263  \n",
       "Profession       0.071699  0.067891  \n",
       "Work_Experience  0.025826  0.008216  \n",
       "Spending_Score   0.078314 -0.109837  \n",
       "Family_Size     -0.137801  0.185486  \n",
       "Var_1            1.000000 -0.018339  \n",
       "target          -0.018339  1.000000  "
      ]
     },
     "execution_count": 60,
     "metadata": {},
     "output_type": "execute_result"
    }
   ],
   "source": [
    "df_train['target']=y_train1\n",
    "df_train.corr()"
   ]
  },
  {
   "cell_type": "code",
   "execution_count": 61,
   "metadata": {
    "colab": {
     "base_uri": "https://localhost:8080/",
     "height": 72
    },
    "colab_type": "code",
    "id": "UI3GbMI8QTfq",
    "outputId": "728a0c42-3ec9-40da-ab98-3145f8561b53"
   },
   "outputs": [
    {
     "data": {
      "text/plain": [
       "KNeighborsClassifier(algorithm='auto', leaf_size=10, metric='minkowski',\n",
       "                     metric_params=None, n_jobs=-1, n_neighbors=1, p=1,\n",
       "                     weights='distance')"
      ]
     },
     "execution_count": 61,
     "metadata": {},
     "output_type": "execute_result"
    }
   ],
   "source": [
    "neigh.fit(x_train,y_train)"
   ]
  },
  {
   "cell_type": "code",
   "execution_count": 62,
   "metadata": {
    "colab": {},
    "colab_type": "code",
    "id": "8pegABeVQcGE"
   },
   "outputs": [],
   "source": [
    "y_pred=neigh.predict(df_test)"
   ]
  },
  {
   "cell_type": "code",
   "execution_count": 63,
   "metadata": {
    "colab": {},
    "colab_type": "code",
    "id": "LlIxtXwD5wgd"
   },
   "outputs": [],
   "source": [
    "np.savetxt(\"data009.csv\", y_pred,delimiter=',',fmt=['%s'])"
   ]
  },
  {
   "cell_type": "code",
   "execution_count": null,
   "metadata": {
    "colab": {},
    "colab_type": "code",
    "id": "n6BWNiPeu3mX"
   },
   "outputs": [],
   "source": []
  }
 ],
 "metadata": {
  "colab": {
   "name": "consumer_segmentation.ipynb",
   "provenance": []
  },
  "kernelspec": {
   "display_name": "Python 3",
   "language": "python",
   "name": "python3"
  },
  "language_info": {
   "codemirror_mode": {
    "name": "ipython",
    "version": 3
   },
   "file_extension": ".py",
   "mimetype": "text/x-python",
   "name": "python",
   "nbconvert_exporter": "python",
   "pygments_lexer": "ipython3",
   "version": "3.7.6"
  }
 },
 "nbformat": 4,
 "nbformat_minor": 1
}
